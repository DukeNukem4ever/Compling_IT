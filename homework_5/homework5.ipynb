{
  "nbformat": 4,
  "nbformat_minor": 0,
  "metadata": {
    "colab": {
      "name": "sem5_Ranking.ipynb",
      "provenance": [],
      "collapsed_sections": [],
      "toc_visible": true
    },
    "kernelspec": {
      "display_name": "Python 3",
      "language": "python",
      "name": "python3"
    },
    "language_info": {
      "codemirror_mode": {
        "name": "ipython",
        "version": 3
      },
      "file_extension": ".py",
      "mimetype": "text/x-python",
      "name": "python",
      "nbconvert_exporter": "python",
      "pygments_lexer": "ipython3",
      "version": "3.7.0"
    }
  },
  "cells": [
    {
      "cell_type": "markdown",
      "metadata": {
        "id": "PTmdbCAAJPXT"
      },
      "source": [
        "# Ранжирование\n",
        "\n",
        "Будем ранжировать разные данные с помощью XGBoost. <br>\n",
        "В XGBoost используется алгоритм LambdaMART, который осуществляет pairwise ранжирование.\n",
        "\n",
        "## Пример\n",
        "\n",
        "Взят [отсюда](https://github.com/dmlc/xgboost/blob/master/demo/rank/rank_sklearn.py)"
      ]
    },
    {
      "cell_type": "code",
      "metadata": {
        "id": "Hv_aB6q_JPXV",
        "scrolled": true
      },
      "source": [
        "import numpy as np\n",
        "import xgboost as xgb\n",
        "from sklearn.datasets import load_svmlight_file\n",
        "from sklearn.metrics import ndcg_score"
      ],
      "execution_count": 3,
      "outputs": []
    },
    {
      "cell_type": "markdown",
      "metadata": {
        "id": "EZyK_xjlJPXb"
      },
      "source": [
        "Данные: датасет LETOR 4.0 MQ2008 - бенчмарк для ранжирования.\n",
        "\n",
        "Данные представлены так:\n",
        "* один объект - это запрос, один документ к нему (набор каких-то признаков) и одна метка релевантности (target)\n",
        "* соответственно, для одного и того же запроса может быть несколько объектов\n",
        "* информация, что, например, какие-то пять объектов относятся к одному запросу, содержится в отдельной структуре \"groups\" и передается в обучение\n",
        "\n",
        "Читаем объекты и таргеты:"
      ]
    },
    {
      "cell_type": "code",
      "metadata": {
        "id": "YJIAN5NNJPXc"
      },
      "source": [
        "x_train, y_train = load_svmlight_file(\"mq2008.train\")\n",
        "x_valid, y_valid = load_svmlight_file(\"mq2008.vali\")\n",
        "x_test, y_test = load_svmlight_file(\"mq2008.test\")"
      ],
      "execution_count": 4,
      "outputs": []
    },
    {
      "cell_type": "markdown",
      "metadata": {
        "id": "1XQjyEzZJPXg"
      },
      "source": [
        "Посмотрим на данные:\n",
        "* в обучении 9630 объектов\n",
        "* 46 признаков\n",
        "* релевантность оценивается по трехбалльной шкале"
      ]
    },
    {
      "cell_type": "code",
      "metadata": {
        "id": "uHUk9q6vJPXh",
        "outputId": "7204d85e-42e1-479c-a359-22c51fa57b92",
        "colab": {
          "base_uri": "https://localhost:8080/",
          "height": 181
        }
      },
      "source": [
        "print(x_train.shape)\n",
        "x_train[0].todense()"
      ],
      "execution_count": 5,
      "outputs": [
        {
          "output_type": "stream",
          "text": [
            "(9630, 46)\n"
          ],
          "name": "stdout"
        },
        {
          "output_type": "execute_result",
          "data": {
            "text/plain": [
              "matrix([[0.007477, 0.      , 1.      , 0.      , 0.00747 , 0.      ,\n",
              "         0.      , 0.      , 0.      , 0.      , 0.471076, 0.      ,\n",
              "         1.      , 0.      , 0.477541, 0.00512 , 0.      , 0.571429,\n",
              "         0.      , 0.004806, 0.768561, 0.727734, 0.716277, 0.582061,\n",
              "         0.      , 0.      , 0.      , 0.      , 0.780495, 0.962382,\n",
              "         0.999274, 0.961524, 0.      , 0.      , 0.      , 0.      ,\n",
              "         0.797056, 0.697327, 0.721953, 0.582568, 0.      , 0.      ,\n",
              "         0.      , 0.      , 0.      , 0.007042]])"
            ]
          },
          "metadata": {
            "tags": []
          },
          "execution_count": 5
        }
      ]
    },
    {
      "cell_type": "code",
      "metadata": {
        "id": "1Gssztq4JPXn",
        "outputId": "a298b37d-cea3-4f7f-81ad-979cdda418f9",
        "colab": {
          "base_uri": "https://localhost:8080/",
          "height": 35
        }
      },
      "source": [
        "set(y_train)"
      ],
      "execution_count": 6,
      "outputs": [
        {
          "output_type": "execute_result",
          "data": {
            "text/plain": [
              "{0.0, 1.0, 2.0}"
            ]
          },
          "metadata": {
            "tags": []
          },
          "execution_count": 6
        }
      ]
    },
    {
      "cell_type": "markdown",
      "metadata": {
        "id": "dd10QW1xJPXr"
      },
      "source": [
        "Читаем информацию о группах:"
      ]
    },
    {
      "cell_type": "code",
      "metadata": {
        "id": "K__uEXdoJPXs"
      },
      "source": [
        "group_train = []\n",
        "with open(\"mq2008.train.group\", \"r\") as f:\n",
        "    data = f.readlines()\n",
        "    for line in data:\n",
        "        group_train.append(int(line.split(\"\\n\")[0]))\n",
        "\n",
        "group_valid = []\n",
        "with open(\"mq2008.vali.group\", \"r\") as f:\n",
        "    data = f.readlines()\n",
        "    for line in data:\n",
        "        group_valid.append(int(line.split(\"\\n\")[0]))\n",
        "\n",
        "group_test = []\n",
        "with open(\"mq2008.test.group\", \"r\") as f:\n",
        "    data = f.readlines()\n",
        "    for line in data:\n",
        "        group_test.append(int(line.split(\"\\n\")[0]))"
      ],
      "execution_count": 7,
      "outputs": []
    },
    {
      "cell_type": "markdown",
      "metadata": {
        "id": "1BvtcSpjJPXw"
      },
      "source": [
        "Как устроена информация о группах:\n",
        "* количество групп отражает информацию о количестве запросов\n",
        "* каждое число обозначает количество последовательных объектов, которые в эту группу объединяются\n",
        "* из предыдущего пункта следует, что в X объекты нельзя перемешивать\n",
        "* если просуммировать все числа в списке групп, получим число объектов из X\n",
        "\n",
        "Для чего нужны группы? <br>\n",
        "Для того, чтобы в обучении не сравнивать доки из разных групп (разных запросов) между собой."
      ]
    },
    {
      "cell_type": "code",
      "metadata": {
        "id": "GNxF3LmGJPXz",
        "outputId": "eff74f23-758e-42db-941d-d1faf57d1947",
        "colab": {
          "base_uri": "https://localhost:8080/",
          "height": 54
        }
      },
      "source": [
        "print(len(group_train), sum(group_train))\n",
        "group_train[:10]"
      ],
      "execution_count": 8,
      "outputs": [
        {
          "output_type": "stream",
          "text": [
            "471 9630\n"
          ],
          "name": "stdout"
        },
        {
          "output_type": "execute_result",
          "data": {
            "text/plain": [
              "[8, 8, 8, 8, 8, 16, 8, 118, 16, 8]"
            ]
          },
          "metadata": {
            "tags": []
          },
          "execution_count": 8
        }
      ]
    },
    {
      "cell_type": "markdown",
      "metadata": {
        "id": "Mz1rD6NjJPX4"
      },
      "source": [
        "Обучаем модель. <br>\n",
        "С помощью `eval_set` можем контролировать обучение, но это необязательный параметр, можно обучить и без валидации. <br>\n",
        "В параметре `objective` можно задать три опции: `rank:ndcg`, `rank:pairwise`, `rank:map`. `ndcg` и `map` регулияруют попарный лосс с помощью подсчета соответствующих метрик."
      ]
    },
    {
      "cell_type": "code",
      "metadata": {
        "id": "HvlRXqveJPX4",
        "outputId": "ac796d28-0605-4d70-9fdf-8ad47ff552f1",
        "colab": {
          "base_uri": "https://localhost:8080/",
          "height": 199
        }
      },
      "source": [
        "params = {'objective': 'rank:ndcg', 'learning_rate': 0.1,\n",
        "          'gamma': 1.0, 'min_child_weight': 0.1,\n",
        "          'max_depth': 6, 'n_estimators': 4}\n",
        "\n",
        "model = xgb.sklearn.XGBRanker(**params)\n",
        "model.fit(x_train, y_train, group_train, verbose=True,\n",
        "          eval_set=[(x_valid, y_valid)], eval_group=[group_valid])"
      ],
      "execution_count": 9,
      "outputs": [
        {
          "output_type": "stream",
          "text": [
            "[0]\teval_0-map:0.707814\n",
            "[1]\teval_0-map:0.709222\n",
            "[2]\teval_0-map:0.7082\n",
            "[3]\teval_0-map:0.714009\n"
          ],
          "name": "stdout"
        },
        {
          "output_type": "execute_result",
          "data": {
            "text/plain": [
              "XGBRanker(base_score=0.5, booster='gbtree', colsample_bylevel=1,\n",
              "          colsample_bynode=1, colsample_bytree=1, gamma=1.0, learning_rate=0.1,\n",
              "          max_delta_step=0, max_depth=6, min_child_weight=0.1, missing=None,\n",
              "          n_estimators=4, n_jobs=-1, nthread=None, objective='rank:ndcg',\n",
              "          random_state=0, reg_alpha=0, reg_lambda=1, scale_pos_weight=1,\n",
              "          seed=None, silent=None, subsample=1, verbosity=1)"
            ]
          },
          "metadata": {
            "tags": []
          },
          "execution_count": 9
        }
      ]
    },
    {
      "cell_type": "markdown",
      "metadata": {
        "id": "Pm5L5RxCJPX9"
      },
      "source": [
        "Получим предсказание на тестовом сете:"
      ]
    },
    {
      "cell_type": "code",
      "metadata": {
        "id": "BtW9nn4mJPX9"
      },
      "source": [
        "pred = model.predict(x_test)"
      ],
      "execution_count": 10,
      "outputs": []
    },
    {
      "cell_type": "code",
      "metadata": {
        "id": "94sNf66mnNEy"
      },
      "source": [
        "#pred"
      ],
      "execution_count": 11,
      "outputs": []
    },
    {
      "cell_type": "markdown",
      "metadata": {
        "id": "Zq34NWrVJPYB"
      },
      "source": [
        "Посчитаем качество:"
      ]
    },
    {
      "cell_type": "code",
      "metadata": {
        "id": "PcImaLv4JPYC"
      },
      "source": [
        "start_idx = 0\n",
        "grouped_pred = []\n",
        "grouped_target = []\n",
        "\n",
        "for group_n in group_test:\n",
        "    grouped_pred.append(pred[start_idx:start_idx+group_n])\n",
        "    grouped_target.append(y_test[start_idx:start_idx+group_n])\n",
        "    start_idx += group_n"
      ],
      "execution_count": 12,
      "outputs": []
    },
    {
      "cell_type": "code",
      "metadata": {
        "id": "xkwK1JmZJPYG",
        "outputId": "5f5dc37e-d328-423c-9e65-1e192d779e96",
        "colab": {
          "base_uri": "https://localhost:8080/",
          "height": 35
        }
      },
      "source": [
        "np.mean([\n",
        "    ndcg_score([grouped_target[i]], [grouped_pred[i]])\n",
        "    for i in range(len(grouped_target))\n",
        "])"
      ],
      "execution_count": 13,
      "outputs": [
        {
          "output_type": "execute_result",
          "data": {
            "text/plain": [
              "0.49836693699277224"
            ]
          },
          "metadata": {
            "tags": []
          },
          "execution_count": 13
        }
      ]
    },
    {
      "cell_type": "markdown",
      "metadata": {
        "id": "fZ36jwtIJPYK"
      },
      "source": [
        "# Семинар и дз\n",
        "Сделать и улучшить любую ML-модель на ваших проектных данных (просто клф, бленд, ранжирование, что-то что вы придумали сами...), используя любые признаки, какие захотите. Оцениваться будут:\n",
        "* факт выполнения задания :)\n",
        "* корректность кода (чтобы код не падал) и отсутствие логических ошибок (e.g. затестили на трейне)\n",
        "* итеративность улучшения (например взяли один сет признаков, показали качество; потом добавили / подкрутили / использовали другую модель, показали качество...)\n",
        "* креативность признаков\n",
        "* аккуратность ноутбука\n",
        "\n",
        "Дедлайн: 15 октября"
      ]
    },
    {
      "cell_type": "code",
      "metadata": {
        "id": "4ircwpFDJPYL"
      },
      "source": [
        "import re\n",
        "import pandas as pd\n",
        "import unicodedata\n",
        "from sklearn.model_selection import train_test_split\n",
        "\n",
        "answers = pd.read_excel('answers_base.xlsx')\n",
        "queries = pd.read_excel('queries_base.xlsx')"
      ],
      "execution_count": 14,
      "outputs": []
    },
    {
      "cell_type": "code",
      "metadata": {
        "id": "Ozvh0qQK7SE3"
      },
      "source": [
        "#new_seventy = queries[:int(len(queries)*0.7)]\n",
        "#other_seventy = queries[1609:]#:-int(len(queries)*0.7)]\n",
        "train, test = train_test_split(queries, test_size=0.3)"
      ],
      "execution_count": 15,
      "outputs": []
    },
    {
      "cell_type": "code",
      "metadata": {
        "id": "zwOptkmhLyR-",
        "outputId": "9962aac4-9487-46cd-e98f-a30837e8161e",
        "colab": {
          "base_uri": "https://localhost:8080/",
          "height": 35
        }
      },
      "source": [
        "new_train = pd.DataFrame()\n",
        "new_train['Текст вопроса'] = pd.concat([train['Текст вопроса'],answers['Текст вопросов']],ignore_index = True)\n",
        "new_train['Номер связки\\n'] = pd.concat([train['Номер связки\\n'], answers['Номер связки']], ignore_index=True)\n",
        "len(new_train)"
      ],
      "execution_count": 16,
      "outputs": [
        {
          "output_type": "execute_result",
          "data": {
            "text/plain": [
              "1652"
            ]
          },
          "metadata": {
            "tags": []
          },
          "execution_count": 16
        }
      ]
    },
    {
      "cell_type": "code",
      "metadata": {
        "id": "357STQKhOwFe",
        "outputId": "c281aede-c323-4de3-fd5f-76c9aad1cacc",
        "colab": {
          "base_uri": "https://localhost:8080/",
          "height": 407
        }
      },
      "source": [
        "new_train"
      ],
      "execution_count": 17,
      "outputs": [
        {
          "output_type": "execute_result",
          "data": {
            "text/html": [
              "<div>\n",
              "<style scoped>\n",
              "    .dataframe tbody tr th:only-of-type {\n",
              "        vertical-align: middle;\n",
              "    }\n",
              "\n",
              "    .dataframe tbody tr th {\n",
              "        vertical-align: top;\n",
              "    }\n",
              "\n",
              "    .dataframe thead th {\n",
              "        text-align: right;\n",
              "    }\n",
              "</style>\n",
              "<table border=\"1\" class=\"dataframe\">\n",
              "  <thead>\n",
              "    <tr style=\"text-align: right;\">\n",
              "      <th></th>\n",
              "      <th>Текст вопроса</th>\n",
              "      <th>Номер связки\\n</th>\n",
              "    </tr>\n",
              "  </thead>\n",
              "  <tbody>\n",
              "    <tr>\n",
              "      <th>0</th>\n",
              "      <td>Добрый день, подскажите , что мне делать, если...</td>\n",
              "      <td>6.0</td>\n",
              "    </tr>\n",
              "    <tr>\n",
              "      <th>1</th>\n",
              "      <td>Добрый День!\\n\\nУ меня следующий вопрос.\\n\\n2 ...</td>\n",
              "      <td>308.0</td>\n",
              "    </tr>\n",
              "    <tr>\n",
              "      <th>2</th>\n",
              "      <td>\\nДобрый день!\\t\\nПодскажите,  пожалуйста,  тр...</td>\n",
              "      <td>37.0</td>\n",
              "    </tr>\n",
              "    <tr>\n",
              "      <th>3</th>\n",
              "      <td>Получен тест на ковид,по прибытию из другой ст...</td>\n",
              "      <td>308.0</td>\n",
              "    </tr>\n",
              "    <tr>\n",
              "      <th>4</th>\n",
              "      <td>Здравствуйте! У нас вопрос, 30.08.2000 приехал...</td>\n",
              "      <td>308.0</td>\n",
              "    </tr>\n",
              "    <tr>\n",
              "      <th>...</th>\n",
              "      <td>...</td>\n",
              "      <td>...</td>\n",
              "    </tr>\n",
              "    <tr>\n",
              "      <th>1647</th>\n",
              "      <td>Платные тесты на ковид?\\nГде сдать тест на ков...</td>\n",
              "      <td>135.0</td>\n",
              "    </tr>\n",
              "    <tr>\n",
              "      <th>1648</th>\n",
              "      <td>Мне 65 лет, куда обращаться, если работодатель...</td>\n",
              "      <td>5.0</td>\n",
              "    </tr>\n",
              "    <tr>\n",
              "      <th>1649</th>\n",
              "      <td>Куда жаловаться (обращаться) если я вижу наруш...</td>\n",
              "      <td>3.0</td>\n",
              "    </tr>\n",
              "    <tr>\n",
              "      <th>1650</th>\n",
              "      <td>Рекомендации для кафе и ресторанов?\\nРекоменда...</td>\n",
              "      <td>45.0</td>\n",
              "    </tr>\n",
              "    <tr>\n",
              "      <th>1651</th>\n",
              "      <td>Правительство явно что-то скрывает о ситуации ...</td>\n",
              "      <td>21.0</td>\n",
              "    </tr>\n",
              "  </tbody>\n",
              "</table>\n",
              "<p>1652 rows × 2 columns</p>\n",
              "</div>"
            ],
            "text/plain": [
              "                                          Текст вопроса  Номер связки\\n\n",
              "0     Добрый день, подскажите , что мне делать, если...             6.0\n",
              "1     Добрый День!\\n\\nУ меня следующий вопрос.\\n\\n2 ...           308.0\n",
              "2     \\nДобрый день!\\t\\nПодскажите,  пожалуйста,  тр...            37.0\n",
              "3     Получен тест на ковид,по прибытию из другой ст...           308.0\n",
              "4     Здравствуйте! У нас вопрос, 30.08.2000 приехал...           308.0\n",
              "...                                                 ...             ...\n",
              "1647  Платные тесты на ковид?\\nГде сдать тест на ков...           135.0\n",
              "1648  Мне 65 лет, куда обращаться, если работодатель...             5.0\n",
              "1649  Куда жаловаться (обращаться) если я вижу наруш...             3.0\n",
              "1650  Рекомендации для кафе и ресторанов?\\nРекоменда...            45.0\n",
              "1651  Правительство явно что-то скрывает о ситуации ...            21.0\n",
              "\n",
              "[1652 rows x 2 columns]"
            ]
          },
          "metadata": {
            "tags": []
          },
          "execution_count": 17
        }
      ]
    },
    {
      "cell_type": "code",
      "metadata": {
        "id": "bai6-QL4Lyp5"
      },
      "source": [
        "#answers\n",
        "from sklearn.feature_extraction.text import TfidfVectorizer\n",
        "\n",
        "count_vect = TfidfVectorizer()\n",
        "\n",
        "X_train = count_vect.fit_transform(new_train['Текст вопроса'].values.astype('U'))\n",
        "y_train = new_train['Номер связки\\n']"
      ],
      "execution_count": 18,
      "outputs": []
    },
    {
      "cell_type": "code",
      "metadata": {
        "id": "xfXw7OHOLys0"
      },
      "source": [
        "#test\n",
        "X_test = count_vect.transform(test['Текст вопроса'].values.astype('U'))\n",
        "y_test = test['Номер связки\\n']"
      ],
      "execution_count": 19,
      "outputs": []
    },
    {
      "cell_type": "code",
      "metadata": {
        "id": "sjmBdDJ5Ly66",
        "outputId": "c96608f7-d409-4cc8-b915-e0553874fac3",
        "colab": {
          "base_uri": "https://localhost:8080/",
          "height": 35
        }
      },
      "source": [
        "X_train.shape"
      ],
      "execution_count": 20,
      "outputs": [
        {
          "output_type": "execute_result",
          "data": {
            "text/plain": [
              "(1652, 12551)"
            ]
          },
          "metadata": {
            "tags": []
          },
          "execution_count": 20
        }
      ]
    },
    {
      "cell_type": "code",
      "metadata": {
        "id": "97KyLPigLy3J",
        "outputId": "b6c51024-bfd5-4ba1-80e5-7eff256e1e04",
        "colab": {
          "base_uri": "https://localhost:8080/",
          "height": 35
        }
      },
      "source": [
        "X_test.shape"
      ],
      "execution_count": 21,
      "outputs": [
        {
          "output_type": "execute_result",
          "data": {
            "text/plain": [
              "(690, 12551)"
            ]
          },
          "metadata": {
            "tags": []
          },
          "execution_count": 21
        }
      ]
    },
    {
      "cell_type": "code",
      "metadata": {
        "id": "vOP5ezLtZ33s"
      },
      "source": [
        "#np.any(np.isnan(train))"
      ],
      "execution_count": 22,
      "outputs": []
    },
    {
      "cell_type": "code",
      "metadata": {
        "id": "uxvDV-dnToJ_"
      },
      "source": [
        "from sklearn.naive_bayes import MultinomialNB\n",
        "from sklearn.metrics import *\n",
        "from sklearn.metrics import accuracy_score\n",
        "\n",
        "#X_train = X_train.fillna(' ')#reset_index()\n",
        "y_train = y_train.fillna(0)#reset_index()\n",
        "y_test = y_test.fillna(0)\n",
        "#clf = MultinomialNB().fit(X_train, y_train)\n",
        "\n",
        "\n",
        "#from sklearn.linear_model import LogisticRegression\n",
        "#clf = LogisticRegression().fit(X_train, y_train)\n",
        "#predicted = clf.predict(X_test)\n",
        "#acc = accuracy_score(y_test, predicted)\n",
        "#print('acc={0:1.4f}'.format(acc))"
      ],
      "execution_count": 23,
      "outputs": []
    },
    {
      "cell_type": "code",
      "metadata": {
        "id": "qGwqUQ9MdOCD"
      },
      "source": [
        ""
      ],
      "execution_count": 23,
      "outputs": []
    },
    {
      "cell_type": "code",
      "metadata": {
        "id": "fi0_CUPqdOH7",
        "outputId": "0da5ec3f-c316-4aac-b093-7ee14549253e",
        "colab": {
          "base_uri": "https://localhost:8080/",
          "height": 35
        }
      },
      "source": [
        "#clf = MultinomialNB().fit(X_train, y_train)\n",
        "from sklearn.tree import DecisionTreeClassifier\n",
        "clf = DecisionTreeClassifier().fit(X_train, y_train)\n",
        "predicted = clf.predict(X_test)\n",
        "acc = accuracy_score(y_test, predicted)\n",
        "print('acc={0:1.4f}'.format(acc))"
      ],
      "execution_count": 24,
      "outputs": [
        {
          "output_type": "stream",
          "text": [
            "acc=0.5159\n"
          ],
          "name": "stdout"
        }
      ]
    },
    {
      "cell_type": "code",
      "metadata": {
        "id": "zBzdgxCIdN6f"
      },
      "source": [
        "#print(len(predicted))\n",
        "#print(len(test))\n",
        "\n",
        "#['Predicted']\n"
      ],
      "execution_count": 25,
      "outputs": []
    },
    {
      "cell_type": "code",
      "metadata": {
        "id": "UEkbo6i4ToYy",
        "outputId": "b0408b2a-2cd3-4989-88c8-8b9392672eec",
        "colab": {
          "base_uri": "https://localhost:8080/",
          "height": 126
        }
      },
      "source": [
        "test['Predicted'] = predicted"
      ],
      "execution_count": 26,
      "outputs": [
        {
          "output_type": "stream",
          "text": [
            "/usr/local/lib/python3.6/dist-packages/ipykernel_launcher.py:1: SettingWithCopyWarning: \n",
            "A value is trying to be set on a copy of a slice from a DataFrame.\n",
            "Try using .loc[row_indexer,col_indexer] = value instead\n",
            "\n",
            "See the caveats in the documentation: https://pandas.pydata.org/pandas-docs/stable/user_guide/indexing.html#returning-a-view-versus-a-copy\n",
            "  \"\"\"Entry point for launching an IPython kernel.\n"
          ],
          "name": "stderr"
        }
      ]
    },
    {
      "cell_type": "code",
      "metadata": {
        "id": "ZtUL73LLToka"
      },
      "source": [
        "#test"
      ],
      "execution_count": 27,
      "outputs": []
    },
    {
      "cell_type": "code",
      "metadata": {
        "id": "tF0M3lNSTo1J"
      },
      "source": [
        "#print(len(new_train['Номер связки\\n']), sum(new_train['Номер связки\\n']))"
      ],
      "execution_count": 28,
      "outputs": []
    },
    {
      "cell_type": "code",
      "metadata": {
        "id": "lNgN9ri_To7K",
        "outputId": "234291b3-1851-45d9-bac6-4bfb4ee9bebf",
        "colab": {
          "base_uri": "https://localhost:8080/",
          "height": 35
        }
      },
      "source": [
        "#for tt in train['Номер связки\\n']:\n",
        "#  print(type(tt))\n",
        "len(train['Номер связки\\n'])"
      ],
      "execution_count": 29,
      "outputs": [
        {
          "output_type": "execute_result",
          "data": {
            "text/plain": [
              "1609"
            ]
          },
          "metadata": {
            "tags": []
          },
          "execution_count": 29
        }
      ]
    },
    {
      "cell_type": "code",
      "metadata": {
        "id": "Y73aW_sf2QPV"
      },
      "source": [
        "from sklearn.feature_selection import SelectKBest\n",
        "from sklearn.feature_selection import chi2\n",
        "\n",
        "test = SelectKBest(score_func=chi2, k=10)"
      ],
      "execution_count": 30,
      "outputs": []
    },
    {
      "cell_type": "code",
      "metadata": {
        "id": "5WFEP2P42QFV"
      },
      "source": [
        "fit = test.fit(X_train, y_train)"
      ],
      "execution_count": 31,
      "outputs": []
    },
    {
      "cell_type": "code",
      "metadata": {
        "id": "t4ukRRo53GJJ"
      },
      "source": [
        "np.set_printoptions(precision=3)"
      ],
      "execution_count": 32,
      "outputs": []
    },
    {
      "cell_type": "code",
      "metadata": {
        "id": "rw54tQ9-3GFD",
        "outputId": "f8909e34-764a-4d76-e139-1a1cb8b568f8",
        "colab": {
          "base_uri": "https://localhost:8080/",
          "height": 35
        }
      },
      "source": [
        "print(fit.scores_)"
      ],
      "execution_count": 33,
      "outputs": [
        {
          "output_type": "stream",
          "text": [
            "[1.237 0.749 1.21  ... 2.089 0.362 1.259]\n"
          ],
          "name": "stdout"
        }
      ]
    },
    {
      "cell_type": "code",
      "metadata": {
        "id": "y-yweXIU3GCW"
      },
      "source": [
        "features = fit.transform(X_train)"
      ],
      "execution_count": 34,
      "outputs": []
    },
    {
      "cell_type": "code",
      "metadata": {
        "id": "Rqz-4BiR34oU",
        "outputId": "2be4e6cc-69c0-47e6-c6ac-58f2e5dcee45",
        "colab": {
          "base_uri": "https://localhost:8080/",
          "height": 326
        }
      },
      "source": [
        "print(features) # Признаки через Хи-Квадрат"
      ],
      "execution_count": 35,
      "outputs": [
        {
          "output_type": "stream",
          "text": [
            "  (146, 0)\t1.0\n",
            "  (269, 8)\t0.14079518638989102\n",
            "  (270, 6)\t0.0795228515138609\n",
            "  (451, 0)\t1.0\n",
            "  (652, 2)\t1.0\n",
            "  (911, 0)\t1.0\n",
            "  (948, 3)\t0.0830711154380084\n",
            "  (956, 5)\t1.0\n",
            "  (1610, 3)\t0.2584604936540927\n",
            "  (1610, 2)\t0.4484103074300624\n",
            "  (1611, 3)\t0.6168068838049291\n",
            "  (1618, 6)\t0.5279982000415716\n",
            "  (1624, 7)\t0.5885006304613428\n",
            "  (1624, 8)\t0.5575805461937295\n",
            "  (1628, 1)\t0.4287378332784641\n",
            "  (1644, 4)\t0.418372230486154\n",
            "  (1644, 9)\t0.418372230486154\n"
          ],
          "name": "stdout"
        }
      ]
    },
    {
      "cell_type": "code",
      "metadata": {
        "id": "Ovu1rj8134l7",
        "outputId": "0958ea10-0dd4-49b4-dfb6-9a3e542d5b53",
        "colab": {
          "base_uri": "https://localhost:8080/",
          "height": 35
        }
      },
      "source": [
        "accuracy_score(y_test,predicted)"
      ],
      "execution_count": 36,
      "outputs": [
        {
          "output_type": "execute_result",
          "data": {
            "text/plain": [
              "0.5159420289855072"
            ]
          },
          "metadata": {
            "tags": []
          },
          "execution_count": 36
        }
      ]
    },
    {
      "cell_type": "code",
      "metadata": {
        "id": "IfA8C0vN34jL"
      },
      "source": [
        ""
      ],
      "execution_count": null,
      "outputs": []
    }
  ]
}