{
  "nbformat": 4,
  "nbformat_minor": 0,
  "metadata": {
    "kernelspec": {
      "display_name": "Python 3",
      "language": "python",
      "name": "python3"
    },
    "language_info": {
      "codemirror_mode": {
        "name": "ipython",
        "version": 3
      },
      "file_extension": ".py",
      "mimetype": "text/x-python",
      "name": "python",
      "nbconvert_exporter": "python",
      "pygments_lexer": "ipython3",
      "version": "3.7.6"
    },
    "colab": {
      "name": "sem3_ner.ipynb",
      "provenance": [],
      "collapsed_sections": []
    }
  },
  "cells": [
    {
      "cell_type": "markdown",
      "metadata": {
        "id": "K_fsxxKWmb0a"
      },
      "source": [
        "## Лекция 3  NER"
      ]
    },
    {
      "cell_type": "markdown",
      "metadata": {
        "id": "4MqbwhEjmb0b"
      },
      "source": [
        "### __Задача 1__:\n",
        "\n",
        "Реализуйте 2 функции препроцессинга:\n",
        "\n",
        "- Удалить именованные сущности с помощью natasha (https://github.com/natasha/yargy)\n",
        "- Удалить именованные сущности с помощью deepmipt (https://github.com/deepmipt/ner)"
      ]
    },
    {
      "cell_type": "code",
      "metadata": {
        "id": "nrqPKWVdHwzi",
        "outputId": "f2699f2e-af08-404b-d9ce-21a666c743bd",
        "colab": {
          "base_uri": "https://localhost:8080/",
          "height": 105
        }
      },
      "source": [
        "!pip install yargy"
      ],
      "execution_count": 85,
      "outputs": [
        {
          "output_type": "stream",
          "text": [
            "Requirement already satisfied: yargy in /usr/local/lib/python3.6/dist-packages (0.14.0)\n",
            "Requirement already satisfied: pymorphy2 in /usr/local/lib/python3.6/dist-packages (from yargy) (0.8)\n",
            "Requirement already satisfied: pymorphy2-dicts<3.0,>=2.4 in /usr/local/lib/python3.6/dist-packages (from pymorphy2->yargy) (2.4.393442.3710985)\n",
            "Requirement already satisfied: dawg-python>=0.7 in /usr/local/lib/python3.6/dist-packages (from pymorphy2->yargy) (0.7.2)\n",
            "Requirement already satisfied: docopt>=0.6 in /usr/local/lib/python3.6/dist-packages (from pymorphy2->yargy) (0.6.2)\n"
          ],
          "name": "stdout"
        }
      ]
    },
    {
      "cell_type": "code",
      "metadata": {
        "id": "eI3fn67YXe_C"
      },
      "source": [
        "from yargy import Parser, rule, and_, not_\n",
        "from yargy.interpretation import fact\n",
        "from yargy.predicates import gram\n",
        "from yargy.relations import gnc_relation\n",
        "from yargy.pipelines import morph_pipeline"
      ],
      "execution_count": 86,
      "outputs": []
    },
    {
      "cell_type": "code",
      "metadata": {
        "id": "4OAt9e2RhXTY",
        "outputId": "737e93b5-248a-415d-dd32-0d1d4fd46523",
        "colab": {
          "base_uri": "https://localhost:8080/",
          "height": 247
        }
      },
      "source": [
        "!pip install natasha"
      ],
      "execution_count": 87,
      "outputs": [
        {
          "output_type": "stream",
          "text": [
            "Requirement already satisfied: natasha in /usr/local/lib/python3.6/dist-packages (1.3.0)\n",
            "Requirement already satisfied: pymorphy2 in /usr/local/lib/python3.6/dist-packages (from natasha) (0.8)\n",
            "Requirement already satisfied: razdel>=0.5.0 in /usr/local/lib/python3.6/dist-packages (from natasha) (0.5.0)\n",
            "Requirement already satisfied: slovnet>=0.3.0 in /usr/local/lib/python3.6/dist-packages (from natasha) (0.4.0)\n",
            "Requirement already satisfied: yargy>=0.14.0 in /usr/local/lib/python3.6/dist-packages (from natasha) (0.14.0)\n",
            "Requirement already satisfied: navec>=0.9.0 in /usr/local/lib/python3.6/dist-packages (from natasha) (0.9.0)\n",
            "Requirement already satisfied: ipymarkup>=0.8.0 in /usr/local/lib/python3.6/dist-packages (from natasha) (0.9.0)\n",
            "Requirement already satisfied: pymorphy2-dicts<3.0,>=2.4 in /usr/local/lib/python3.6/dist-packages (from pymorphy2->natasha) (2.4.393442.3710985)\n",
            "Requirement already satisfied: docopt>=0.6 in /usr/local/lib/python3.6/dist-packages (from pymorphy2->natasha) (0.6.2)\n",
            "Requirement already satisfied: dawg-python>=0.7 in /usr/local/lib/python3.6/dist-packages (from pymorphy2->natasha) (0.7.2)\n",
            "Requirement already satisfied: numpy in /usr/local/lib/python3.6/dist-packages (from slovnet>=0.3.0->natasha) (1.13.1)\n",
            "Requirement already satisfied: intervaltree>=3 in /usr/local/lib/python3.6/dist-packages (from ipymarkup>=0.8.0->natasha) (3.1.0)\n",
            "Requirement already satisfied: sortedcontainers<3.0,>=2.0 in /usr/local/lib/python3.6/dist-packages (from intervaltree>=3->ipymarkup>=0.8.0->natasha) (2.2.2)\n"
          ],
          "name": "stdout"
        }
      ]
    },
    {
      "cell_type": "code",
      "metadata": {
        "id": "bJdHhaNhhTtq"
      },
      "source": [
        "from natasha import NamesExtractor\n",
        "import re"
      ],
      "execution_count": 88,
      "outputs": []
    },
    {
      "cell_type": "code",
      "metadata": {
        "id": "iA5KbEI3wH_m"
      },
      "source": [
        "from natasha import (\n",
        "    Segmenter,\n",
        "    \n",
        "    NewsEmbedding,\n",
        "    NewsMorphTagger,\n",
        "    NewsSyntaxParser,\n",
        "    \n",
        "    Doc\n",
        ")"
      ],
      "execution_count": 111,
      "outputs": []
    },
    {
      "cell_type": "code",
      "metadata": {
        "id": "YYYfBez-MmNo",
        "outputId": "29901fac-035b-496e-a60e-4ab59b4646ba",
        "colab": {
          "base_uri": "https://localhost:8080/",
          "height": 712
        }
      },
      "source": [
        "!pip install git+https://github.com/deepmipt/ner\n",
        "import ner\n",
        "extractor = ner.Extractor()"
      ],
      "execution_count": 90,
      "outputs": [
        {
          "output_type": "stream",
          "text": [
            "Collecting git+https://github.com/deepmipt/ner\n",
            "  Cloning https://github.com/deepmipt/ner to /tmp/pip-req-build-ftqlfsri\n",
            "  Running command git clone -q https://github.com/deepmipt/ner /tmp/pip-req-build-ftqlfsri\n",
            "Requirement already satisfied (use --upgrade to upgrade): ner==0.0.1 from git+https://github.com/deepmipt/ner in /usr/local/lib/python3.6/dist-packages\n",
            "Requirement already satisfied: numpy==1.13.1 in /usr/local/lib/python3.6/dist-packages (from ner==0.0.1) (1.13.1)\n",
            "Requirement already satisfied: tensorflow==1.3.0 in /usr/local/lib/python3.6/dist-packages (from ner==0.0.1) (1.3.0)\n",
            "Requirement already satisfied: pymorphy2==0.8 in /usr/local/lib/python3.6/dist-packages (from ner==0.0.1) (0.8)\n",
            "Requirement already satisfied: pymorphy2-dicts==2.4.393442.3710985 in /usr/local/lib/python3.6/dist-packages (from ner==0.0.1) (2.4.393442.3710985)\n",
            "Requirement already satisfied: tqdm==4.19.5 in /usr/local/lib/python3.6/dist-packages (from ner==0.0.1) (4.19.5)\n",
            "Requirement already satisfied: requests==2.18.4 in /usr/local/lib/python3.6/dist-packages (from ner==0.0.1) (2.18.4)\n",
            "Requirement already satisfied: gensim==2.3.0 in /usr/local/lib/python3.6/dist-packages (from ner==0.0.1) (2.3.0)\n",
            "Requirement already satisfied: protobuf>=3.3.0 in /usr/local/lib/python3.6/dist-packages (from tensorflow==1.3.0->ner==0.0.1) (3.12.4)\n",
            "Requirement already satisfied: wheel>=0.26 in /usr/local/lib/python3.6/dist-packages (from tensorflow==1.3.0->ner==0.0.1) (0.35.1)\n",
            "Requirement already satisfied: six>=1.10.0 in /usr/local/lib/python3.6/dist-packages (from tensorflow==1.3.0->ner==0.0.1) (1.15.0)\n",
            "Requirement already satisfied: tensorflow-tensorboard<0.2.0,>=0.1.0 in /usr/local/lib/python3.6/dist-packages (from tensorflow==1.3.0->ner==0.0.1) (0.1.8)\n",
            "Requirement already satisfied: dawg-python>=0.7 in /usr/local/lib/python3.6/dist-packages (from pymorphy2==0.8->ner==0.0.1) (0.7.2)\n",
            "Requirement already satisfied: docopt>=0.6 in /usr/local/lib/python3.6/dist-packages (from pymorphy2==0.8->ner==0.0.1) (0.6.2)\n",
            "Requirement already satisfied: chardet<3.1.0,>=3.0.2 in /usr/local/lib/python3.6/dist-packages (from requests==2.18.4->ner==0.0.1) (3.0.4)\n",
            "Requirement already satisfied: certifi>=2017.4.17 in /usr/local/lib/python3.6/dist-packages (from requests==2.18.4->ner==0.0.1) (2020.6.20)\n",
            "Requirement already satisfied: idna<2.7,>=2.5 in /usr/local/lib/python3.6/dist-packages (from requests==2.18.4->ner==0.0.1) (2.6)\n",
            "Requirement already satisfied: urllib3<1.23,>=1.21.1 in /usr/local/lib/python3.6/dist-packages (from requests==2.18.4->ner==0.0.1) (1.22)\n",
            "Requirement already satisfied: smart-open>=1.2.1 in /usr/local/lib/python3.6/dist-packages (from gensim==2.3.0->ner==0.0.1) (2.2.0)\n",
            "Requirement already satisfied: scipy>=0.18.1 in /usr/local/lib/python3.6/dist-packages (from gensim==2.3.0->ner==0.0.1) (1.4.1)\n",
            "Requirement already satisfied: setuptools in /usr/local/lib/python3.6/dist-packages (from protobuf>=3.3.0->tensorflow==1.3.0->ner==0.0.1) (50.3.0)\n",
            "Requirement already satisfied: markdown>=2.6.8 in /usr/local/lib/python3.6/dist-packages (from tensorflow-tensorboard<0.2.0,>=0.1.0->tensorflow==1.3.0->ner==0.0.1) (3.2.2)\n",
            "Requirement already satisfied: html5lib==0.9999999 in /usr/local/lib/python3.6/dist-packages (from tensorflow-tensorboard<0.2.0,>=0.1.0->tensorflow==1.3.0->ner==0.0.1) (0.9999999)\n",
            "Requirement already satisfied: werkzeug>=0.11.10 in /usr/local/lib/python3.6/dist-packages (from tensorflow-tensorboard<0.2.0,>=0.1.0->tensorflow==1.3.0->ner==0.0.1) (1.0.1)\n",
            "Requirement already satisfied: bleach==1.5.0 in /usr/local/lib/python3.6/dist-packages (from tensorflow-tensorboard<0.2.0,>=0.1.0->tensorflow==1.3.0->ner==0.0.1) (1.5.0)\n",
            "Requirement already satisfied: importlib-metadata; python_version < \"3.8\" in /usr/local/lib/python3.6/dist-packages (from markdown>=2.6.8->tensorflow-tensorboard<0.2.0,>=0.1.0->tensorflow==1.3.0->ner==0.0.1) (2.0.0)\n",
            "Requirement already satisfied: zipp>=0.5 in /usr/local/lib/python3.6/dist-packages (from importlib-metadata; python_version < \"3.8\"->markdown>=2.6.8->tensorflow-tensorboard<0.2.0,>=0.1.0->tensorflow==1.3.0->ner==0.0.1) (3.2.0)\n",
            "Building wheels for collected packages: ner\n",
            "  Building wheel for ner (setup.py) ... \u001b[?25l\u001b[?25hdone\n",
            "  Created wheel for ner: filename=ner-0.0.1-cp36-none-any.whl size=22531 sha256=1593526e7e43a823a3078277b0dc1f230686c5c8a69deabf309b8272e6e4831a\n",
            "  Stored in directory: /tmp/pip-ephem-wheel-cache-jjjrzid5/wheels/46/f5/1c/0657f016f0e9725ee09f56dab547bd0bcb76fbbbc067a950ea\n",
            "Successfully built ner\n"
          ],
          "name": "stdout"
        },
        {
          "output_type": "stream",
          "text": [
            "/usr/local/lib/python3.6/dist-packages/tensorflow/python/ops/gradients_impl.py:95: UserWarning: Converting sparse IndexedSlices to a dense Tensor of unknown shape. This may consume a large amount of memory.\n",
            "  \"Converting sparse IndexedSlices to a dense Tensor of unknown shape. \"\n"
          ],
          "name": "stderr"
        },
        {
          "output_type": "stream",
          "text": [
            "INFO:tensorflow:Restoring parameters from /usr/local/lib/python3.6/dist-packages/ner/extractor/../model/ner_model\n"
          ],
          "name": "stdout"
        }
      ]
    },
    {
      "cell_type": "code",
      "metadata": {
        "id": "hEKkySHmmb0c"
      },
      "source": [
        "def preprocess_with_natasha(text: str) -> str:\n",
        "  segmenter = Segmenter()\n",
        "  emb = NewsEmbedding()\n",
        "  morph_tagger = NewsMorphTagger(emb)\n",
        "  syntax_parser = NewsSyntaxParser(emb)\n",
        "\n",
        "  doc = Doc(text)\n",
        "\n",
        "  doc.segment(segmenter)\n",
        "  doc.tag_morph(morph_tagger)\n",
        "  doc.parse_syntax(syntax_parser)\n",
        "\n",
        "  list_of_needed = {}\n",
        "\n",
        "  sent = doc.sents[0]\n",
        "  for ss in sent.morph:\n",
        "    for s in ss:\n",
        "      search1 = re.findall('text=\\'(.*?)\\'',str(s))\n",
        "      search2 = re.findall('pos=\\'(.*?)\\'',str(s))\n",
        "      list_of_needed[' '.join(search1)] = ' '.join(search2)\n",
        "\n",
        "  for k,v in list_of_needed.items():\n",
        "    if v == 'PROPN':\n",
        "      text = re.sub(k, '', text)\n",
        "  return text\n",
        "\n",
        "def preprocess_with_deepmipt(text: str) -> str:\n",
        "  list_of_extractors = []\n",
        "  for m in extractor(text):\n",
        "    for mm in m:\n",
        "      if str(type(mm)) == '<class \\'list\\'>':\n",
        "        list_of_extractors.append(mm)\n",
        "  list_2 = []\n",
        "  for l in list_of_extractors:\n",
        "    word = re.findall('text=\\'(.*?)\\'', str(l))\n",
        "    if type(word) is list:\n",
        "      list_2 = list_2 + word\n",
        "    else:\n",
        "      list_2.append(' '.join(word))\n",
        "  for word in text.split():\n",
        "    for ww in list_2:\n",
        "      if word == ww:\n",
        "        text = re.sub(word, '', text)\n",
        "  return text"
      ],
      "execution_count": 91,
      "outputs": []
    },
    {
      "cell_type": "code",
      "metadata": {
        "id": "ySyScUwtOBxH",
        "outputId": "177f6e33-f1df-45aa-88fd-c201c153c320",
        "colab": {
          "base_uri": "https://localhost:8080/",
          "height": 35
        }
      },
      "source": [
        "preprocess_with_natasha('До Москвы недалеко')"
      ],
      "execution_count": 92,
      "outputs": [
        {
          "output_type": "execute_result",
          "data": {
            "application/vnd.google.colaboratory.intrinsic+json": {
              "type": "string"
            },
            "text/plain": [
              "'До  недалеко'"
            ]
          },
          "metadata": {
            "tags": []
          },
          "execution_count": 92
        }
      ]
    },
    {
      "cell_type": "code",
      "metadata": {
        "id": "s9qbFiJpukRG",
        "outputId": "e7702b20-2cc5-4850-e950-ff05037d1c38",
        "colab": {
          "base_uri": "https://localhost:8080/",
          "height": 35
        }
      },
      "source": [
        "preprocess_with_deepmipt('До Москвы недалеко')"
      ],
      "execution_count": 93,
      "outputs": [
        {
          "output_type": "execute_result",
          "data": {
            "application/vnd.google.colaboratory.intrinsic+json": {
              "type": "string"
            },
            "text/plain": [
              "'До  недалеко'"
            ]
          },
          "metadata": {
            "tags": []
          },
          "execution_count": 93
        }
      ]
    },
    {
      "cell_type": "markdown",
      "metadata": {
        "id": "BMHfCBMLmb0h"
      },
      "source": [
        "### __Задача 2__:    \n",
        "На предыдущем занятии вы реализовывали функции поиска ближайших ответов на запросы через TF-IDF и BM25. \n",
        "Сравните качество нахождения верного ответа для обоих методов в трех случаях:\n",
        "- с функцией ```preprocess_with_natasha```\n",
        "- с функцией ```preprocess_with_deepmipt```\n",
        "- без препроцессинга\n",
        "\n",
        "Для измерения качества используйте метрику accuracy. Считаем, что ответ верный, если он входит в топ-1."
      ]
    },
    {
      "cell_type": "code",
      "metadata": {
        "id": "knnpJcZIay5p"
      },
      "source": [
        "from sklearn.feature_extraction.text import TfidfVectorizer\n",
        "import numpy as np\n",
        "\n",
        "# инициализируем\n",
        "vectorizer = TfidfVectorizer()"
      ],
      "execution_count": 94,
      "outputs": []
    },
    {
      "cell_type": "code",
      "metadata": {
        "id": "TFOoB-aspxLF"
      },
      "source": [
        "import re\n",
        "import pandas as pd\n",
        "import unicodedata\n",
        "\n",
        "answers = pd.read_excel('answers_base.xlsx')\n",
        "queries = pd.read_excel('queries_base.xlsx')"
      ],
      "execution_count": 127,
      "outputs": []
    },
    {
      "cell_type": "code",
      "metadata": {
        "id": "-CRVmKSE8qsE",
        "outputId": "1a793de8-f983-4268-e116-922ad59ebe92",
        "colab": {
          "base_uri": "https://localhost:8080/",
          "height": 406
        }
      },
      "source": [
        "queries"
      ],
      "execution_count": 128,
      "outputs": [
        {
          "output_type": "execute_result",
          "data": {
            "text/html": [
              "<div>\n",
              "<style scoped>\n",
              "    .dataframe tbody tr th:only-of-type {\n",
              "        vertical-align: middle;\n",
              "    }\n",
              "\n",
              "    .dataframe tbody tr th {\n",
              "        vertical-align: top;\n",
              "    }\n",
              "\n",
              "    .dataframe thead th {\n",
              "        text-align: right;\n",
              "    }\n",
              "</style>\n",
              "<table border=\"1\" class=\"dataframe\">\n",
              "  <thead>\n",
              "    <tr style=\"text-align: right;\">\n",
              "      <th></th>\n",
              "      <th>Текст вопроса</th>\n",
              "      <th>Номер связки\\n</th>\n",
              "      <th>Тематика</th>\n",
              "      <th>Unnamed: 3</th>\n",
              "      <th>Unnamed: 4</th>\n",
              "    </tr>\n",
              "  </thead>\n",
              "  <tbody>\n",
              "    <tr>\n",
              "      <th>0</th>\n",
              "      <td>с уважением Вероника Игоревна  Ильич\\n\\nПосле ...</td>\n",
              "      <td>308.0</td>\n",
              "      <td>ЗАКРЫТИЕ ГРАНИЦ, ОТКРЫТИЕ ГРАНИЦ РОССИИ И АВИА...</td>\n",
              "      <td>NaN</td>\n",
              "      <td>NaN</td>\n",
              "    </tr>\n",
              "    <tr>\n",
              "      <th>1</th>\n",
              "      <td>Здравствуйте! Проинформируйте, пожалуйста, нуж...</td>\n",
              "      <td>324.0</td>\n",
              "      <td>ОРГАНИЗАЦИИ ОТДЫХА ДЕТЕЙ И ИХ ЗДОРОВЛЕНИЯ</td>\n",
              "      <td>NaN</td>\n",
              "      <td>NaN</td>\n",
              "    </tr>\n",
              "    <tr>\n",
              "      <th>2</th>\n",
              "      <td>--\\nДобрый день!\\n   Меня, Сидельникова Андрея...</td>\n",
              "      <td>57.0</td>\n",
              "      <td>БОЛЬНИЧНЫЙ ЛИСТ</td>\n",
              "      <td>NaN</td>\n",
              "      <td>NaN</td>\n",
              "    </tr>\n",
              "    <tr>\n",
              "      <th>3</th>\n",
              "      <td>Добрый день.\\nВ Кемеровской области согласно п...</td>\n",
              "      <td>45.0</td>\n",
              "      <td>ШТРАФЫ, НОРМАТИВНЫЕ АКТЫ И РЕКОМЕНДАЦИИ</td>\n",
              "      <td>NaN</td>\n",
              "      <td>NaN</td>\n",
              "    </tr>\n",
              "    <tr>\n",
              "      <th>4</th>\n",
              "      <td>Здравствуйте, в моем городе Кострома введено о...</td>\n",
              "      <td>3.0</td>\n",
              "      <td>ШТРАФЫ, НОРМАТИВНЫЕ АКТЫ И РЕКОМЕНДАЦИИ</td>\n",
              "      <td>NaN</td>\n",
              "      <td>NaN</td>\n",
              "    </tr>\n",
              "    <tr>\n",
              "      <th>...</th>\n",
              "      <td>...</td>\n",
              "      <td>...</td>\n",
              "      <td>...</td>\n",
              "      <td>...</td>\n",
              "      <td>...</td>\n",
              "    </tr>\n",
              "    <tr>\n",
              "      <th>2294</th>\n",
              "      <td>Добрый день.\\nГражданин Украины проживает в РФ...</td>\n",
              "      <td>308.0</td>\n",
              "      <td>ЗАКРЫТИЕ ГРАНИЦ, ОТКРЫТИЕ ГРАНИЦ РОССИИ И АВИА...</td>\n",
              "      <td>NaN</td>\n",
              "      <td>NaN</td>\n",
              "    </tr>\n",
              "    <tr>\n",
              "      <th>2295</th>\n",
              "      <td>Добрый вечер. Нахожусь в командировке за грани...</td>\n",
              "      <td>308.0</td>\n",
              "      <td>ЗАКРЫТИЕ ГРАНИЦ, ОТКРЫТИЕ ГРАНИЦ РОССИИ И АВИА...</td>\n",
              "      <td>NaN</td>\n",
              "      <td>NaN</td>\n",
              "    </tr>\n",
              "    <tr>\n",
              "      <th>2296</th>\n",
              "      <td>Здравствуйте! \\nНам пришёл положительный резул...</td>\n",
              "      <td>1.0</td>\n",
              "      <td>КАРАНТИН, ИЗОЛЯЦИЯ, САМОИЗОЛЯЦИЯ\\n</td>\n",
              "      <td>NaN</td>\n",
              "      <td>NaN</td>\n",
              "    </tr>\n",
              "    <tr>\n",
              "      <th>2297</th>\n",
              "      <td>Добрый день, хотелось бы получить консультацию...</td>\n",
              "      <td>45.0</td>\n",
              "      <td>ШТРАФЫ, НОРМАТИВНЫЕ АКТЫ И РЕКОМЕНДАЦИИ\\n</td>\n",
              "      <td>NaN</td>\n",
              "      <td>NaN</td>\n",
              "    </tr>\n",
              "    <tr>\n",
              "      <th>2298</th>\n",
              "      <td>Добрый день ! \\nМоя мама Уланина Валентина Мих...</td>\n",
              "      <td>257.0</td>\n",
              "      <td>ОКАЗАНИЕ МЕДИЦИНСКОЙ ПОМОЩИ, ГОТОВНОСТЬ СТАЦИО...</td>\n",
              "      <td>NaN</td>\n",
              "      <td>NaN</td>\n",
              "    </tr>\n",
              "  </tbody>\n",
              "</table>\n",
              "<p>2299 rows × 5 columns</p>\n",
              "</div>"
            ],
            "text/plain": [
              "                                          Текст вопроса  ...  Unnamed: 4\n",
              "0     с уважением Вероника Игоревна  Ильич\\n\\nПосле ...  ...         NaN\n",
              "1     Здравствуйте! Проинформируйте, пожалуйста, нуж...  ...         NaN\n",
              "2     --\\nДобрый день!\\n   Меня, Сидельникова Андрея...  ...         NaN\n",
              "3     Добрый день.\\nВ Кемеровской области согласно п...  ...         NaN\n",
              "4     Здравствуйте, в моем городе Кострома введено о...  ...         NaN\n",
              "...                                                 ...  ...         ...\n",
              "2294  Добрый день.\\nГражданин Украины проживает в РФ...  ...         NaN\n",
              "2295  Добрый вечер. Нахожусь в командировке за грани...  ...         NaN\n",
              "2296  Здравствуйте! \\nНам пришёл положительный резул...  ...         NaN\n",
              "2297  Добрый день, хотелось бы получить консультацию...  ...         NaN\n",
              "2298  Добрый день ! \\nМоя мама Уланина Валентина Мих...  ...         NaN\n",
              "\n",
              "[2299 rows x 5 columns]"
            ]
          },
          "metadata": {
            "tags": []
          },
          "execution_count": 128
        }
      ]
    },
    {
      "cell_type": "code",
      "metadata": {
        "id": "LRVO_N9r8qwe"
      },
      "source": [
        "new_seventy = queries[:int(len(queries)*0.7)]"
      ],
      "execution_count": 129,
      "outputs": []
    },
    {
      "cell_type": "code",
      "metadata": {
        "id": "O5UUS2uVlriR",
        "outputId": "3bf4dee8-f4f4-4dd7-b6d3-db532a1ca0e3",
        "colab": {
          "base_uri": "https://localhost:8080/",
          "height": 406
        }
      },
      "source": [
        "other_seventy = queries[1609:]#:-int(len(queries)*0.7)]\n",
        "other_seventy"
      ],
      "execution_count": 130,
      "outputs": [
        {
          "output_type": "execute_result",
          "data": {
            "text/html": [
              "<div>\n",
              "<style scoped>\n",
              "    .dataframe tbody tr th:only-of-type {\n",
              "        vertical-align: middle;\n",
              "    }\n",
              "\n",
              "    .dataframe tbody tr th {\n",
              "        vertical-align: top;\n",
              "    }\n",
              "\n",
              "    .dataframe thead th {\n",
              "        text-align: right;\n",
              "    }\n",
              "</style>\n",
              "<table border=\"1\" class=\"dataframe\">\n",
              "  <thead>\n",
              "    <tr style=\"text-align: right;\">\n",
              "      <th></th>\n",
              "      <th>Текст вопроса</th>\n",
              "      <th>Номер связки\\n</th>\n",
              "      <th>Тематика</th>\n",
              "      <th>Unnamed: 3</th>\n",
              "      <th>Unnamed: 4</th>\n",
              "    </tr>\n",
              "  </thead>\n",
              "  <tbody>\n",
              "    <tr>\n",
              "      <th>1609</th>\n",
              "      <td>Меня интересует конкретно переход Границы с Аб...</td>\n",
              "      <td>308.0</td>\n",
              "      <td>ЗАКРЫТИЕ ГРАНИЦ, ОТКРЫТИЕ ГРАНИЦ РОССИИ И АВИА...</td>\n",
              "      <td>NaN</td>\n",
              "      <td>NaN</td>\n",
              "    </tr>\n",
              "    <tr>\n",
              "      <th>1610</th>\n",
              "      <td>Добрый день.\\n26.08 прибыл из Турции на террит...</td>\n",
              "      <td>308.0</td>\n",
              "      <td>ЗАКРЫТИЕ ГРАНИЦ, ОТКРЫТИЕ ГРАНИЦ РОССИИ И АВИА...</td>\n",
              "      <td>NaN</td>\n",
              "      <td>NaN</td>\n",
              "    </tr>\n",
              "    <tr>\n",
              "      <th>1611</th>\n",
              "      <td>Добрый день!Интересует такой вопрос, ко мне в ...</td>\n",
              "      <td>308.0</td>\n",
              "      <td>ЗАКРЫТИЕ ГРАНИЦ, ОТКРЫТИЕ ГРАНИЦ РОССИИ И АВИА...</td>\n",
              "      <td>NaN</td>\n",
              "      <td>NaN</td>\n",
              "    </tr>\n",
              "    <tr>\n",
              "      <th>1612</th>\n",
              "      <td>Добрый день!\\nУ члена семьи был подтвержден ко...</td>\n",
              "      <td>1.0</td>\n",
              "      <td>КАРАНТИН, ИЗОЛЯЦИЯ, САМОИЗОЛЯЦИЯ\\n</td>\n",
              "      <td>NaN</td>\n",
              "      <td>NaN</td>\n",
              "    </tr>\n",
              "    <tr>\n",
              "      <th>1613</th>\n",
              "      <td>Добрый день. Я не нашла ответа на свой вопрос ...</td>\n",
              "      <td>308.0</td>\n",
              "      <td>ЗАКРЫТИЕ ГРАНИЦ, ОТКРЫТИЕ ГРАНИЦ РОССИИ И АВИА...</td>\n",
              "      <td>NaN</td>\n",
              "      <td>NaN</td>\n",
              "    </tr>\n",
              "    <tr>\n",
              "      <th>...</th>\n",
              "      <td>...</td>\n",
              "      <td>...</td>\n",
              "      <td>...</td>\n",
              "      <td>...</td>\n",
              "      <td>...</td>\n",
              "    </tr>\n",
              "    <tr>\n",
              "      <th>2294</th>\n",
              "      <td>Добрый день.\\nГражданин Украины проживает в РФ...</td>\n",
              "      <td>308.0</td>\n",
              "      <td>ЗАКРЫТИЕ ГРАНИЦ, ОТКРЫТИЕ ГРАНИЦ РОССИИ И АВИА...</td>\n",
              "      <td>NaN</td>\n",
              "      <td>NaN</td>\n",
              "    </tr>\n",
              "    <tr>\n",
              "      <th>2295</th>\n",
              "      <td>Добрый вечер. Нахожусь в командировке за грани...</td>\n",
              "      <td>308.0</td>\n",
              "      <td>ЗАКРЫТИЕ ГРАНИЦ, ОТКРЫТИЕ ГРАНИЦ РОССИИ И АВИА...</td>\n",
              "      <td>NaN</td>\n",
              "      <td>NaN</td>\n",
              "    </tr>\n",
              "    <tr>\n",
              "      <th>2296</th>\n",
              "      <td>Здравствуйте! \\nНам пришёл положительный резул...</td>\n",
              "      <td>1.0</td>\n",
              "      <td>КАРАНТИН, ИЗОЛЯЦИЯ, САМОИЗОЛЯЦИЯ\\n</td>\n",
              "      <td>NaN</td>\n",
              "      <td>NaN</td>\n",
              "    </tr>\n",
              "    <tr>\n",
              "      <th>2297</th>\n",
              "      <td>Добрый день, хотелось бы получить консультацию...</td>\n",
              "      <td>45.0</td>\n",
              "      <td>ШТРАФЫ, НОРМАТИВНЫЕ АКТЫ И РЕКОМЕНДАЦИИ\\n</td>\n",
              "      <td>NaN</td>\n",
              "      <td>NaN</td>\n",
              "    </tr>\n",
              "    <tr>\n",
              "      <th>2298</th>\n",
              "      <td>Добрый день ! \\nМоя мама Уланина Валентина Мих...</td>\n",
              "      <td>257.0</td>\n",
              "      <td>ОКАЗАНИЕ МЕДИЦИНСКОЙ ПОМОЩИ, ГОТОВНОСТЬ СТАЦИО...</td>\n",
              "      <td>NaN</td>\n",
              "      <td>NaN</td>\n",
              "    </tr>\n",
              "  </tbody>\n",
              "</table>\n",
              "<p>690 rows × 5 columns</p>\n",
              "</div>"
            ],
            "text/plain": [
              "                                          Текст вопроса  ...  Unnamed: 4\n",
              "1609  Меня интересует конкретно переход Границы с Аб...  ...         NaN\n",
              "1610  Добрый день.\\n26.08 прибыл из Турции на террит...  ...         NaN\n",
              "1611  Добрый день!Интересует такой вопрос, ко мне в ...  ...         NaN\n",
              "1612  Добрый день!\\nУ члена семьи был подтвержден ко...  ...         NaN\n",
              "1613  Добрый день. Я не нашла ответа на свой вопрос ...  ...         NaN\n",
              "...                                                 ...  ...         ...\n",
              "2294  Добрый день.\\nГражданин Украины проживает в РФ...  ...         NaN\n",
              "2295  Добрый вечер. Нахожусь в командировке за грани...  ...         NaN\n",
              "2296  Здравствуйте! \\nНам пришёл положительный резул...  ...         NaN\n",
              "2297  Добрый день, хотелось бы получить консультацию...  ...         NaN\n",
              "2298  Добрый день ! \\nМоя мама Уланина Валентина Мих...  ...         NaN\n",
              "\n",
              "[690 rows x 5 columns]"
            ]
          },
          "metadata": {
            "tags": []
          },
          "execution_count": 130
        }
      ]
    },
    {
      "cell_type": "code",
      "metadata": {
        "id": "9ZEG2fXjl53z",
        "outputId": "cd7c276d-7c2b-43ae-f71e-cd373323e45b",
        "colab": {
          "base_uri": "https://localhost:8080/",
          "height": 406
        }
      },
      "source": [
        "new_seventy"
      ],
      "execution_count": 131,
      "outputs": [
        {
          "output_type": "execute_result",
          "data": {
            "text/html": [
              "<div>\n",
              "<style scoped>\n",
              "    .dataframe tbody tr th:only-of-type {\n",
              "        vertical-align: middle;\n",
              "    }\n",
              "\n",
              "    .dataframe tbody tr th {\n",
              "        vertical-align: top;\n",
              "    }\n",
              "\n",
              "    .dataframe thead th {\n",
              "        text-align: right;\n",
              "    }\n",
              "</style>\n",
              "<table border=\"1\" class=\"dataframe\">\n",
              "  <thead>\n",
              "    <tr style=\"text-align: right;\">\n",
              "      <th></th>\n",
              "      <th>Текст вопроса</th>\n",
              "      <th>Номер связки\\n</th>\n",
              "      <th>Тематика</th>\n",
              "      <th>Unnamed: 3</th>\n",
              "      <th>Unnamed: 4</th>\n",
              "    </tr>\n",
              "  </thead>\n",
              "  <tbody>\n",
              "    <tr>\n",
              "      <th>0</th>\n",
              "      <td>с уважением Вероника Игоревна  Ильич\\n\\nПосле ...</td>\n",
              "      <td>308.0</td>\n",
              "      <td>ЗАКРЫТИЕ ГРАНИЦ, ОТКРЫТИЕ ГРАНИЦ РОССИИ И АВИА...</td>\n",
              "      <td>NaN</td>\n",
              "      <td>NaN</td>\n",
              "    </tr>\n",
              "    <tr>\n",
              "      <th>1</th>\n",
              "      <td>Здравствуйте! Проинформируйте, пожалуйста, нуж...</td>\n",
              "      <td>324.0</td>\n",
              "      <td>ОРГАНИЗАЦИИ ОТДЫХА ДЕТЕЙ И ИХ ЗДОРОВЛЕНИЯ</td>\n",
              "      <td>NaN</td>\n",
              "      <td>NaN</td>\n",
              "    </tr>\n",
              "    <tr>\n",
              "      <th>2</th>\n",
              "      <td>--\\nДобрый день!\\n   Меня, Сидельникова Андрея...</td>\n",
              "      <td>57.0</td>\n",
              "      <td>БОЛЬНИЧНЫЙ ЛИСТ</td>\n",
              "      <td>NaN</td>\n",
              "      <td>NaN</td>\n",
              "    </tr>\n",
              "    <tr>\n",
              "      <th>3</th>\n",
              "      <td>Добрый день.\\nВ Кемеровской области согласно п...</td>\n",
              "      <td>45.0</td>\n",
              "      <td>ШТРАФЫ, НОРМАТИВНЫЕ АКТЫ И РЕКОМЕНДАЦИИ</td>\n",
              "      <td>NaN</td>\n",
              "      <td>NaN</td>\n",
              "    </tr>\n",
              "    <tr>\n",
              "      <th>4</th>\n",
              "      <td>Здравствуйте, в моем городе Кострома введено о...</td>\n",
              "      <td>3.0</td>\n",
              "      <td>ШТРАФЫ, НОРМАТИВНЫЕ АКТЫ И РЕКОМЕНДАЦИИ</td>\n",
              "      <td>NaN</td>\n",
              "      <td>NaN</td>\n",
              "    </tr>\n",
              "    <tr>\n",
              "      <th>...</th>\n",
              "      <td>...</td>\n",
              "      <td>...</td>\n",
              "      <td>...</td>\n",
              "      <td>...</td>\n",
              "      <td>...</td>\n",
              "    </tr>\n",
              "    <tr>\n",
              "      <th>1604</th>\n",
              "      <td>Здравствуйте меня зовут Александр Архипов. Я г...</td>\n",
              "      <td>308.0</td>\n",
              "      <td>ЗАКРЫТИЕ ГРАНИЦ, ОТКРЫТИЕ ГРАНИЦ РОССИИ И АВИА...</td>\n",
              "      <td>NaN</td>\n",
              "      <td>NaN</td>\n",
              "    </tr>\n",
              "    <tr>\n",
              "      <th>1605</th>\n",
              "      <td>Результат Пцр мазка Мещанинова Константина Вал...</td>\n",
              "      <td>6.0</td>\n",
              "      <td>ТЕСТИРОВАНИЕ (АНАЛИЗ) НА КОРОНАВИРУС\\n</td>\n",
              "      <td>NaN</td>\n",
              "      <td>NaN</td>\n",
              "    </tr>\n",
              "    <tr>\n",
              "      <th>1606</th>\n",
              "      <td>Я являюсь сотрудником министерства гражданской...</td>\n",
              "      <td>1.0</td>\n",
              "      <td>КАРАНТИН, ИЗОЛЯЦИЯ, САМОИЗОЛЯЦИЯ\\n</td>\n",
              "      <td>NaN</td>\n",
              "      <td>NaN</td>\n",
              "    </tr>\n",
              "    <tr>\n",
              "      <th>1607</th>\n",
              "      <td>Здравствуйте!Мне нужно уточнить по вопросу, ка...</td>\n",
              "      <td>308.0</td>\n",
              "      <td>ЗАКРЫТИЕ ГРАНИЦ, ОТКРЫТИЕ ГРАНИЦ РОССИИ И АВИА...</td>\n",
              "      <td>NaN</td>\n",
              "      <td>NaN</td>\n",
              "    </tr>\n",
              "    <tr>\n",
              "      <th>1608</th>\n",
              "      <td>Здравствуйте!\\nМне нужно уточнить по вопросу, ...</td>\n",
              "      <td>308.0</td>\n",
              "      <td>ЗАКРЫТИЕ ГРАНИЦ, ОТКРЫТИЕ ГРАНИЦ РОССИИ И АВИА...</td>\n",
              "      <td>NaN</td>\n",
              "      <td>NaN</td>\n",
              "    </tr>\n",
              "  </tbody>\n",
              "</table>\n",
              "<p>1609 rows × 5 columns</p>\n",
              "</div>"
            ],
            "text/plain": [
              "                                          Текст вопроса  ...  Unnamed: 4\n",
              "0     с уважением Вероника Игоревна  Ильич\\n\\nПосле ...  ...         NaN\n",
              "1     Здравствуйте! Проинформируйте, пожалуйста, нуж...  ...         NaN\n",
              "2     --\\nДобрый день!\\n   Меня, Сидельникова Андрея...  ...         NaN\n",
              "3     Добрый день.\\nВ Кемеровской области согласно п...  ...         NaN\n",
              "4     Здравствуйте, в моем городе Кострома введено о...  ...         NaN\n",
              "...                                                 ...  ...         ...\n",
              "1604  Здравствуйте меня зовут Александр Архипов. Я г...  ...         NaN\n",
              "1605  Результат Пцр мазка Мещанинова Константина Вал...  ...         NaN\n",
              "1606  Я являюсь сотрудником министерства гражданской...  ...         NaN\n",
              "1607  Здравствуйте!Мне нужно уточнить по вопросу, ка...  ...         NaN\n",
              "1608  Здравствуйте!\\nМне нужно уточнить по вопросу, ...  ...         NaN\n",
              "\n",
              "[1609 rows x 5 columns]"
            ]
          },
          "metadata": {
            "tags": []
          },
          "execution_count": 131
        }
      ]
    },
    {
      "cell_type": "code",
      "metadata": {
        "id": "uO78DsPkIL1h",
        "outputId": "5bdbddb5-cae9-44a7-eec5-477838a4c4c7",
        "colab": {
          "base_uri": "https://localhost:8080/",
          "height": 406
        }
      },
      "source": [
        "sevvo_4 = pd.DataFrame()\n",
        "sevvo_4['Текст вопроса'] = pd.concat([new_seventy['Текст вопроса'],answers['Текст вопросов']],ignore_index=True)\n",
        "sevvo_4['Номер связки'] = pd.concat([new_seventy['Номер связки\\n'],answers['Номер связки']],ignore_index=True)\n",
        "\n",
        "sevvo_4"
      ],
      "execution_count": 132,
      "outputs": [
        {
          "output_type": "execute_result",
          "data": {
            "text/html": [
              "<div>\n",
              "<style scoped>\n",
              "    .dataframe tbody tr th:only-of-type {\n",
              "        vertical-align: middle;\n",
              "    }\n",
              "\n",
              "    .dataframe tbody tr th {\n",
              "        vertical-align: top;\n",
              "    }\n",
              "\n",
              "    .dataframe thead th {\n",
              "        text-align: right;\n",
              "    }\n",
              "</style>\n",
              "<table border=\"1\" class=\"dataframe\">\n",
              "  <thead>\n",
              "    <tr style=\"text-align: right;\">\n",
              "      <th></th>\n",
              "      <th>Текст вопроса</th>\n",
              "      <th>Номер связки</th>\n",
              "    </tr>\n",
              "  </thead>\n",
              "  <tbody>\n",
              "    <tr>\n",
              "      <th>0</th>\n",
              "      <td>с уважением Вероника Игоревна  Ильич\\n\\nПосле ...</td>\n",
              "      <td>308.0</td>\n",
              "    </tr>\n",
              "    <tr>\n",
              "      <th>1</th>\n",
              "      <td>Здравствуйте! Проинформируйте, пожалуйста, нуж...</td>\n",
              "      <td>324.0</td>\n",
              "    </tr>\n",
              "    <tr>\n",
              "      <th>2</th>\n",
              "      <td>--\\nДобрый день!\\n   Меня, Сидельникова Андрея...</td>\n",
              "      <td>57.0</td>\n",
              "    </tr>\n",
              "    <tr>\n",
              "      <th>3</th>\n",
              "      <td>Добрый день.\\nВ Кемеровской области согласно п...</td>\n",
              "      <td>45.0</td>\n",
              "    </tr>\n",
              "    <tr>\n",
              "      <th>4</th>\n",
              "      <td>Здравствуйте, в моем городе Кострома введено о...</td>\n",
              "      <td>3.0</td>\n",
              "    </tr>\n",
              "    <tr>\n",
              "      <th>...</th>\n",
              "      <td>...</td>\n",
              "      <td>...</td>\n",
              "    </tr>\n",
              "    <tr>\n",
              "      <th>1647</th>\n",
              "      <td>Платные тесты на ковид?\\nГде сдать тест на ков...</td>\n",
              "      <td>135.0</td>\n",
              "    </tr>\n",
              "    <tr>\n",
              "      <th>1648</th>\n",
              "      <td>Мне 65 лет, куда обращаться, если работодатель...</td>\n",
              "      <td>5.0</td>\n",
              "    </tr>\n",
              "    <tr>\n",
              "      <th>1649</th>\n",
              "      <td>Куда жаловаться (обращаться) если я вижу наруш...</td>\n",
              "      <td>3.0</td>\n",
              "    </tr>\n",
              "    <tr>\n",
              "      <th>1650</th>\n",
              "      <td>Рекомендации для кафе и ресторанов?\\nРекоменда...</td>\n",
              "      <td>45.0</td>\n",
              "    </tr>\n",
              "    <tr>\n",
              "      <th>1651</th>\n",
              "      <td>Правительство явно что-то скрывает о ситуации ...</td>\n",
              "      <td>21.0</td>\n",
              "    </tr>\n",
              "  </tbody>\n",
              "</table>\n",
              "<p>1652 rows × 2 columns</p>\n",
              "</div>"
            ],
            "text/plain": [
              "                                          Текст вопроса  Номер связки\n",
              "0     с уважением Вероника Игоревна  Ильич\\n\\nПосле ...         308.0\n",
              "1     Здравствуйте! Проинформируйте, пожалуйста, нуж...         324.0\n",
              "2     --\\nДобрый день!\\n   Меня, Сидельникова Андрея...          57.0\n",
              "3     Добрый день.\\nВ Кемеровской области согласно п...          45.0\n",
              "4     Здравствуйте, в моем городе Кострома введено о...           3.0\n",
              "...                                                 ...           ...\n",
              "1647  Платные тесты на ковид?\\nГде сдать тест на ков...         135.0\n",
              "1648  Мне 65 лет, куда обращаться, если работодатель...           5.0\n",
              "1649  Куда жаловаться (обращаться) если я вижу наруш...           3.0\n",
              "1650  Рекомендации для кафе и ресторанов?\\nРекоменда...          45.0\n",
              "1651  Правительство явно что-то скрывает о ситуации ...          21.0\n",
              "\n",
              "[1652 rows x 2 columns]"
            ]
          },
          "metadata": {
            "tags": []
          },
          "execution_count": 132
        }
      ]
    },
    {
      "cell_type": "code",
      "metadata": {
        "id": "hbPUcxiGKbtE",
        "outputId": "42e8a31b-a23b-4584-87d1-b0dbdb773b2e",
        "colab": {
          "base_uri": "https://localhost:8080/",
          "height": 406
        }
      },
      "source": [
        "n_conn = sevvo_4['Номер связки'].tolist()\n",
        "other_seventy"
      ],
      "execution_count": 133,
      "outputs": [
        {
          "output_type": "execute_result",
          "data": {
            "text/html": [
              "<div>\n",
              "<style scoped>\n",
              "    .dataframe tbody tr th:only-of-type {\n",
              "        vertical-align: middle;\n",
              "    }\n",
              "\n",
              "    .dataframe tbody tr th {\n",
              "        vertical-align: top;\n",
              "    }\n",
              "\n",
              "    .dataframe thead th {\n",
              "        text-align: right;\n",
              "    }\n",
              "</style>\n",
              "<table border=\"1\" class=\"dataframe\">\n",
              "  <thead>\n",
              "    <tr style=\"text-align: right;\">\n",
              "      <th></th>\n",
              "      <th>Текст вопроса</th>\n",
              "      <th>Номер связки\\n</th>\n",
              "      <th>Тематика</th>\n",
              "      <th>Unnamed: 3</th>\n",
              "      <th>Unnamed: 4</th>\n",
              "    </tr>\n",
              "  </thead>\n",
              "  <tbody>\n",
              "    <tr>\n",
              "      <th>1609</th>\n",
              "      <td>Меня интересует конкретно переход Границы с Аб...</td>\n",
              "      <td>308.0</td>\n",
              "      <td>ЗАКРЫТИЕ ГРАНИЦ, ОТКРЫТИЕ ГРАНИЦ РОССИИ И АВИА...</td>\n",
              "      <td>NaN</td>\n",
              "      <td>NaN</td>\n",
              "    </tr>\n",
              "    <tr>\n",
              "      <th>1610</th>\n",
              "      <td>Добрый день.\\n26.08 прибыл из Турции на террит...</td>\n",
              "      <td>308.0</td>\n",
              "      <td>ЗАКРЫТИЕ ГРАНИЦ, ОТКРЫТИЕ ГРАНИЦ РОССИИ И АВИА...</td>\n",
              "      <td>NaN</td>\n",
              "      <td>NaN</td>\n",
              "    </tr>\n",
              "    <tr>\n",
              "      <th>1611</th>\n",
              "      <td>Добрый день!Интересует такой вопрос, ко мне в ...</td>\n",
              "      <td>308.0</td>\n",
              "      <td>ЗАКРЫТИЕ ГРАНИЦ, ОТКРЫТИЕ ГРАНИЦ РОССИИ И АВИА...</td>\n",
              "      <td>NaN</td>\n",
              "      <td>NaN</td>\n",
              "    </tr>\n",
              "    <tr>\n",
              "      <th>1612</th>\n",
              "      <td>Добрый день!\\nУ члена семьи был подтвержден ко...</td>\n",
              "      <td>1.0</td>\n",
              "      <td>КАРАНТИН, ИЗОЛЯЦИЯ, САМОИЗОЛЯЦИЯ\\n</td>\n",
              "      <td>NaN</td>\n",
              "      <td>NaN</td>\n",
              "    </tr>\n",
              "    <tr>\n",
              "      <th>1613</th>\n",
              "      <td>Добрый день. Я не нашла ответа на свой вопрос ...</td>\n",
              "      <td>308.0</td>\n",
              "      <td>ЗАКРЫТИЕ ГРАНИЦ, ОТКРЫТИЕ ГРАНИЦ РОССИИ И АВИА...</td>\n",
              "      <td>NaN</td>\n",
              "      <td>NaN</td>\n",
              "    </tr>\n",
              "    <tr>\n",
              "      <th>...</th>\n",
              "      <td>...</td>\n",
              "      <td>...</td>\n",
              "      <td>...</td>\n",
              "      <td>...</td>\n",
              "      <td>...</td>\n",
              "    </tr>\n",
              "    <tr>\n",
              "      <th>2294</th>\n",
              "      <td>Добрый день.\\nГражданин Украины проживает в РФ...</td>\n",
              "      <td>308.0</td>\n",
              "      <td>ЗАКРЫТИЕ ГРАНИЦ, ОТКРЫТИЕ ГРАНИЦ РОССИИ И АВИА...</td>\n",
              "      <td>NaN</td>\n",
              "      <td>NaN</td>\n",
              "    </tr>\n",
              "    <tr>\n",
              "      <th>2295</th>\n",
              "      <td>Добрый вечер. Нахожусь в командировке за грани...</td>\n",
              "      <td>308.0</td>\n",
              "      <td>ЗАКРЫТИЕ ГРАНИЦ, ОТКРЫТИЕ ГРАНИЦ РОССИИ И АВИА...</td>\n",
              "      <td>NaN</td>\n",
              "      <td>NaN</td>\n",
              "    </tr>\n",
              "    <tr>\n",
              "      <th>2296</th>\n",
              "      <td>Здравствуйте! \\nНам пришёл положительный резул...</td>\n",
              "      <td>1.0</td>\n",
              "      <td>КАРАНТИН, ИЗОЛЯЦИЯ, САМОИЗОЛЯЦИЯ\\n</td>\n",
              "      <td>NaN</td>\n",
              "      <td>NaN</td>\n",
              "    </tr>\n",
              "    <tr>\n",
              "      <th>2297</th>\n",
              "      <td>Добрый день, хотелось бы получить консультацию...</td>\n",
              "      <td>45.0</td>\n",
              "      <td>ШТРАФЫ, НОРМАТИВНЫЕ АКТЫ И РЕКОМЕНДАЦИИ\\n</td>\n",
              "      <td>NaN</td>\n",
              "      <td>NaN</td>\n",
              "    </tr>\n",
              "    <tr>\n",
              "      <th>2298</th>\n",
              "      <td>Добрый день ! \\nМоя мама Уланина Валентина Мих...</td>\n",
              "      <td>257.0</td>\n",
              "      <td>ОКАЗАНИЕ МЕДИЦИНСКОЙ ПОМОЩИ, ГОТОВНОСТЬ СТАЦИО...</td>\n",
              "      <td>NaN</td>\n",
              "      <td>NaN</td>\n",
              "    </tr>\n",
              "  </tbody>\n",
              "</table>\n",
              "<p>690 rows × 5 columns</p>\n",
              "</div>"
            ],
            "text/plain": [
              "                                          Текст вопроса  ...  Unnamed: 4\n",
              "1609  Меня интересует конкретно переход Границы с Аб...  ...         NaN\n",
              "1610  Добрый день.\\n26.08 прибыл из Турции на террит...  ...         NaN\n",
              "1611  Добрый день!Интересует такой вопрос, ко мне в ...  ...         NaN\n",
              "1612  Добрый день!\\nУ члена семьи был подтвержден ко...  ...         NaN\n",
              "1613  Добрый день. Я не нашла ответа на свой вопрос ...  ...         NaN\n",
              "...                                                 ...  ...         ...\n",
              "2294  Добрый день.\\nГражданин Украины проживает в РФ...  ...         NaN\n",
              "2295  Добрый вечер. Нахожусь в командировке за грани...  ...         NaN\n",
              "2296  Здравствуйте! \\nНам пришёл положительный резул...  ...         NaN\n",
              "2297  Добрый день, хотелось бы получить консультацию...  ...         NaN\n",
              "2298  Добрый день ! \\nМоя мама Уланина Валентина Мих...  ...         NaN\n",
              "\n",
              "[690 rows x 5 columns]"
            ]
          },
          "metadata": {
            "tags": []
          },
          "execution_count": 133
        }
      ]
    },
    {
      "cell_type": "code",
      "metadata": {
        "id": "lTWqNkZCWRDD",
        "outputId": "2980fffe-1ffb-41a3-829c-fa9ab51d55d0",
        "colab": {
          "base_uri": "https://localhost:8080/",
          "height": 247
        }
      },
      "source": [
        "X = vectorizer.fit_transform(sevvo_4['Текст вопроса'].values.astype('U'))\n",
        "Y = vectorizer.transform(other_seventy['Текст вопроса'].values.astype('U')).toarray()\n",
        "\n",
        "Y_t = Y.transpose()\n",
        "X.dot(Y_t)"
      ],
      "execution_count": 134,
      "outputs": [
        {
          "output_type": "execute_result",
          "data": {
            "text/plain": [
              "array([[0.        , 0.04287689, 0.05834729, ..., 0.03167038, 0.01363547,\n",
              "        0.00321257],\n",
              "       [0.        , 0.09973354, 0.01685706, ..., 0.07604975, 0.00977253,\n",
              "        0.        ],\n",
              "       [0.00959547, 0.10001181, 0.06739524, ..., 0.03198831, 0.02917185,\n",
              "        0.0350019 ],\n",
              "       ...,\n",
              "       [0.01104936, 0.04753727, 0.05754338, ..., 0.00094292, 0.02671735,\n",
              "        0.01690017],\n",
              "       [0.        , 0.02815584, 0.03112915, ..., 0.00125265, 0.01136519,\n",
              "        0.00424314],\n",
              "       [0.        , 0.01002816, 0.06019289, ..., 0.        , 0.00801717,\n",
              "        0.        ]])"
            ]
          },
          "metadata": {
            "tags": []
          },
          "execution_count": 134
        }
      ]
    },
    {
      "cell_type": "code",
      "metadata": {
        "id": "8Y8gkCACMatj",
        "outputId": "6d5afcc8-d6e4-4e64-f918-c821da3eb359",
        "colab": {
          "base_uri": "https://localhost:8080/",
          "height": 123
        }
      },
      "source": [
        "import operator\n",
        "\n",
        "def ranging(text):\n",
        "  dict_texts = {}\n",
        "  cnt = 0\n",
        "  for x in np.nditer(text):\n",
        "    dict_texts[n_conn[cnt]] = float(x)\n",
        "    cnt += 1\n",
        "  new_dict = sorted(dict_texts.items(),\n",
        "                    key = operator.itemgetter(1), reverse = True)\n",
        "  first = []\n",
        "  for k in new_dict:\n",
        "    first.append(k[0])\n",
        "  return first[0]\n",
        "\n",
        "ranging_list = []\n",
        "\n",
        "for o in X.dot(Y_t):\n",
        "  ranging_list.append(ranging(o))\n",
        "\n",
        "other_seventy['tf_none'] = ranging_list[:690]\n",
        "\n",
        "accuracy = 0\n",
        "for s, t in zip(other_seventy['Номер связки\\n'],other_seventy['tf_none']):\n",
        "  if s == t:\n",
        "    accuracy += 1\n",
        "\n",
        "acc = accuracy/len(other_seventy['Номер связки\\n'])\n",
        "print(acc)"
      ],
      "execution_count": 135,
      "outputs": [
        {
          "output_type": "stream",
          "text": [
            "0.04492753623188406\n"
          ],
          "name": "stdout"
        },
        {
          "output_type": "stream",
          "text": [
            "/usr/local/lib/python3.6/dist-packages/ipykernel_launcher.py:21: SettingWithCopyWarning: \n",
            "A value is trying to be set on a copy of a slice from a DataFrame.\n",
            "Try using .loc[row_indexer,col_indexer] = value instead\n",
            "\n",
            "See the caveats in the documentation: https://pandas.pydata.org/pandas-docs/stable/user_guide/indexing.html#returning-a-view-versus-a-copy\n"
          ],
          "name": "stderr"
        }
      ]
    },
    {
      "cell_type": "code",
      "metadata": {
        "id": "s1z7sBBsz_PM"
      },
      "source": [
        "train_frame = pd.DataFrame()\n",
        "old_frame = pd.DataFrame()\n",
        "\n",
        "hyper_list = []\n",
        "test_list = []\n",
        "\n",
        "for t in sevvo_4['Текст вопроса']:\n",
        "  hyper_list.append(preprocess_with_natasha(str(t)))\n",
        "\n",
        "for o in other_seventy['Текст вопроса']:\n",
        "  test_list.append(preprocess_with_natasha(str(o)))\n",
        "\n",
        "train_frame['Текст вопросов'] = hyper_list\n",
        "train_frame['Номер связки'] = sevvo_4['Номер связки']\n",
        "\n",
        "old_frame['Текст вопросов'] == test_list\n",
        "old_frame['Номер связки'] = other_seventy['Номер связки\\n']\n",
        "\n",
        "n_conn = train_frame['Номер связки'].tolist()\n",
        "\n",
        "X = vectorizer.fit_transform(train_frame['Текст вопроса'].values.astype('U'))\n",
        "Y = vectorizer.transform(other_seventy['Текст вопроса'].values.astype('U')).toarray()\n",
        "\n",
        "Y_t = Y.transpose()\n",
        "#X.dot(Y_t)\n",
        "\n",
        "ranging_list = []\n",
        "\n",
        "for o in X.dot(Y_t):\n",
        "  ranging_list.append(ranging(o))\n",
        "\n",
        "other_seventy['tf_natasha'] = ranging_list[:690]\n",
        "\n",
        "accuracy = 0\n",
        "for s, t in zip(other_seventy['Номер связки\\n'],other_seventy['tf_natasha']):\n",
        "  if s == t:\n",
        "    accuracy += 1\n",
        "\n",
        "acc = accuracy/len(other_seventy['Номер связки\\n'])\n",
        "print(acc)\n"
      ],
      "execution_count": 119,
      "outputs": []
    },
    {
      "cell_type": "code",
      "metadata": {
        "id": "ThnrR1whSsal"
      },
      "source": [
        "train_frame = pd.DataFrame()\n",
        "old_frame = pd.DataFrame()\n",
        "\n",
        "hyper_list = []\n",
        "test_list = []\n",
        "\n",
        "for t in sevvo_4['Текст вопроса']:\n",
        "  hyper_list.append(preprocess_with_deepmipt(str(t)))\n",
        "\n",
        "for o in other_seventy['Текст вопроса']:\n",
        "  test_list.append(preprocess_with_deepmipt(str(o)))\n",
        "\n",
        "train_frame['Текст вопросов'] = hyper_list\n",
        "train_frame['Номер связки'] = sevvo_4['Номер связки']\n",
        "\n",
        "old_frame['Текст вопросов'] == test_list\n",
        "old_frame['Номер связки'] = other_seventy['Номер связки\\n']\n",
        "\n",
        "n_conn = train_frame['Номер связки'].tolist()\n",
        "\n",
        "X = vectorizer.fit_transform(train_frame['Текст вопроса'].values.astype('U'))\n",
        "Y = vectorizer.transform(other_seventy['Текст вопроса'].values.astype('U')).toarray()\n",
        "\n",
        "Y_t = Y.transpose()\n",
        "#X.dot(Y_t)\n",
        "\n",
        "ranging_list = []\n",
        "\n",
        "for o in X.dot(Y_t):\n",
        "  ranging_list.append(ranging(o))\n",
        "\n",
        "other_seventy['tf_deepmint'] = ranging_list[:690]\n",
        "\n",
        "accuracy = 0\n",
        "for s, t in zip(other_seventy['Номер связки\\n'],other_seventy['tf_deepmint']):\n",
        "  if s == t:\n",
        "    accuracy += 1\n",
        "\n",
        "acc = accuracy/len(other_seventy['Номер связки\\n'])\n",
        "print(acc)\n"
      ],
      "execution_count": null,
      "outputs": []
    },
    {
      "cell_type": "code",
      "metadata": {
        "id": "GO1wRC0TTcOr",
        "outputId": "24cb43d5-d779-45ed-e537-0498948b3ce9",
        "colab": {
          "base_uri": "https://localhost:8080/",
          "height": 238
        }
      },
      "source": [
        "### реализуйте эту функцию ранжирования \n",
        "from math import log\n",
        "import statistics\n",
        "import re\n",
        "\n",
        "k = 2.0\n",
        "b = 0.75\n",
        "\n",
        "collection = list(sevvo_4['Текст вопроса'])\n",
        "#collection_2 = list(other_seventy['Текст вопроса'])\n",
        "\n",
        "collection_length = []\n",
        "n_big = len(collection)\n",
        "\n",
        "for c in collection:\n",
        "  collection_length.append(len(c))\n",
        "\n",
        "avgdl = statistics.mean(collection_length)\n",
        "#avgdl_2 = statistics.mean(collection_2_length)\n",
        "\n",
        "# d - один документ\n",
        "# q - набор слов\n",
        "\n",
        "def bm25(d,q) -> float:\n",
        "  l_d = len(d)\n",
        "  def frequency(single_q):\n",
        "    tf_q_d = 0\n",
        "    for word in d.split():\n",
        "      word = re.sub('!@#$%^&*\\(\\)\\[\\]\\{\\}.,><?/-/\"',' ',word)\n",
        "      word = word.lower()\n",
        "      #print(word)\n",
        "      #print(single_q)\n",
        "      if single_q == word:\n",
        "        tf_q_d += 1\n",
        "    return tf_q_d\n",
        "  \n",
        "  def get_idf(single_q):\n",
        "    \n",
        "    def number_of_docs(another_q):\n",
        "      doc_num = 0\n",
        "      for col in collection:\n",
        "        if another_q in col:\n",
        "          doc_num += 1\n",
        "      return doc_num\n",
        "  \n",
        "    end_result = log((n_big - number_of_docs(single_q) + 0.5)/\n",
        "                     (number_of_docs(single_q) + 0.5))\n",
        "    return end_result\n",
        "  \n",
        "  final_meanings = []\n",
        "\n",
        "  for query in q:\n",
        "    #print(query)\n",
        "    upper_half = frequency(query) * (k + 1)\n",
        "    lower_half = frequency(query) + k * (1 - b + b * (l_d)/avgdl)\n",
        "    final_meanings.append(get_idf(query) * upper_half/lower_half)\n",
        "\n",
        "  return sum(final_meanings)\n",
        "\n",
        "for bm25()"
      ],
      "execution_count": 165,
      "outputs": [
        {
          "output_type": "error",
          "ename": "TypeError",
          "evalue": "ignored",
          "traceback": [
            "\u001b[0;31m---------------------------------------------------------------------------\u001b[0m",
            "\u001b[0;31mTypeError\u001b[0m                                 Traceback (most recent call last)",
            "\u001b[0;32m<ipython-input-165-c017891c698f>\u001b[0m in \u001b[0;36m<module>\u001b[0;34m()\u001b[0m\n\u001b[1;32m      5\u001b[0m \u001b[0;31m#tokenized_corpus = [doc.split(\" \") for doc in corpus]\u001b[0m\u001b[0;34m\u001b[0m\u001b[0;34m\u001b[0m\u001b[0;34m\u001b[0m\u001b[0m\n\u001b[1;32m      6\u001b[0m \u001b[0;34m\u001b[0m\u001b[0m\n\u001b[0;32m----> 7\u001b[0;31m \u001b[0mbm25\u001b[0m \u001b[0;34m=\u001b[0m \u001b[0mBM25Okapi\u001b[0m\u001b[0;34m(\u001b[0m\u001b[0;34m\" \"\u001b[0m\u001b[0;34m.\u001b[0m\u001b[0mjoin\u001b[0m\u001b[0;34m(\u001b[0m\u001b[0mcorpus\u001b[0m\u001b[0;34m)\u001b[0m\u001b[0;34m)\u001b[0m\u001b[0;34m\u001b[0m\u001b[0;34m\u001b[0m\u001b[0m\n\u001b[0m\u001b[1;32m      8\u001b[0m \u001b[0;34m\u001b[0m\u001b[0m\n\u001b[1;32m      9\u001b[0m \u001b[0mquery\u001b[0m \u001b[0;34m=\u001b[0m \u001b[0;34m\"windy London\"\u001b[0m\u001b[0;34m\u001b[0m\u001b[0;34m\u001b[0m\u001b[0m\n",
            "\u001b[0;31mTypeError\u001b[0m: sequence item 0: expected str instance, bool found"
          ]
        }
      ]
    },
    {
      "cell_type": "code",
      "metadata": {
        "id": "iWYERRKzKEwJ"
      },
      "source": [
        ""
      ],
      "execution_count": null,
      "outputs": []
    },
    {
      "cell_type": "markdown",
      "metadata": {
        "id": "PYQJlliYmb0i"
      },
      "source": [
        "### __Задача 3__:    \n",
        "Улучшить правила в natasha. Написать правила, которые ловят даты в следующих примерах и пересчитать статистику из Задачи 2:\n",
        "- Уехал 8-9 ноября в Сочи\n",
        "- Уезжаю 5 числа                           \n",
        "- 20го сентября заболел\n",
        "\n",
        "Пример можно посмотреть тут: https://github.com/natasha/yargy"
      ]
    },
    {
      "cell_type": "code",
      "metadata": {
        "id": "cNFfvIxImb0j"
      },
      "source": [
        "from yargy import rule, and_, Parser\n",
        "from yargy.predicates import gte, lte\n",
        "\n",
        "def preprocess_with_natasha_updated(text: str) -> str:\n",
        "  segmenter = Segmenter()\n",
        "  emb = NewsEmbedding()\n",
        "  morph_tagger = NewsMorphTagger(emb)\n",
        "  syntax_parser = NewsSyntaxParser(emb)\n",
        "  \n",
        "  doc = Doc(text)\n",
        "\n",
        "  doc.segment(segmenter)\n",
        "  doc.tag_morph(morph_tagger)\n",
        "  doc.parse_syntax(syntax_parser)\n",
        "\n",
        "  MIDNUM_1 = and_(\n",
        "    gte(0),\n",
        "    lte(9)\n",
        "  )\n",
        "  MIDNUM_2 = and_(\n",
        "    gte(0),\n",
        "    lte(9)\n",
        "  )\n",
        "  MIDNUM = rule(\n",
        "    MIDNUM_1,\n",
        "    '-',\n",
        "    MIDNUM_2,\n",
        "  )\n",
        "  SEPNUM = rule(\n",
        "      MIDNUM_1,\n",
        "      ' '\n",
        "  )\n",
        "  DATE_CASUAL = rule(\n",
        "      MIDNUM_1,\n",
        "      '-',\n",
        "      {'го',\n",
        "       'ой',\n",
        "       'ей',\n",
        "       'м',\n",
        "       'ым',\n",
        "       'ых',\n",
        "       'х'}\n",
        "  )\n",
        "  DATE_CLOSER = rule(\n",
        "      MIDNUM_1,\n",
        "      {'го',\n",
        "       'ой',\n",
        "       'ей',\n",
        "       'м',\n",
        "       'ым',\n",
        "       'ых',\n",
        "       'х'}\n",
        "  )\n",
        "\n",
        "  list_of_needed = {}\n",
        "\n",
        "  sent = doc.sents[0]\n",
        "\n",
        "  for ss in sent.morph:\n",
        "    for s in ss:\n",
        "      search1 = re.findall('text=\\'(.*?)\\'',str(s))\n",
        "      search2 = re.findall('pos=\\'(.*?)\\'',str(s))\n",
        "      list_of_needed[' '.join(search1)] = ' '.join(search2)\n",
        "  \n",
        "  for k,v in list_of_needed.items():\n",
        "    if v == 'PROPN':\n",
        "      text = re.sub(k, '', text)\n",
        "  return text\n",
        "\n",
        "\n",
        "  "
      ],
      "execution_count": 117,
      "outputs": []
    },
    {
      "cell_type": "code",
      "metadata": {
        "id": "xG_UXfW9CGja",
        "outputId": "3ab38cb2-4ee0-4595-f6f0-b217a8403e3d",
        "colab": {
          "base_uri": "https://localhost:8080/",
          "height": 53
        }
      },
      "source": [
        "train_frame = pd.DataFrame()\n",
        "old_frame = pd.DataFrame()\n",
        "\n",
        "hyper_list = []\n",
        "test_list = []\n",
        "\n",
        "for t in sevvo_4['Текст вопроса']:\n",
        "  hyper_list.append(preprocess_with_natasha_updated(str(t)))\n",
        "\n",
        "for o in other_seventy['Текст вопроса']:\n",
        "  test_list.append(preprocess_with_natasha_updated(str(o)))\n",
        "\n",
        "train_frame['Текст вопросов'] = hyper_list\n",
        "train_frame['Номер связки'] = sevvo_4['Номер связки']\n",
        "\n",
        "old_frame['Текст вопросов'] == test_list\n",
        "old_frame['Номер связки'] = other_seventy['Номер связки\\n']\n",
        "\n",
        "n_conn = train_frame['Номер связки'].tolist()\n",
        "\n",
        "X = vectorizer.fit_transform(train_frame['Текст вопроса'].values.astype('U'))\n",
        "Y = vectorizer.transform(other_seventy['Текст вопроса'].values.astype('U')).toarray()\n",
        "\n",
        "Y_t = Y.transpose()\n",
        "#X.dot(Y_t)\n",
        "\n",
        "ranging_list = []\n",
        "\n",
        "for o in X.dot(Y_t):\n",
        "  ranging_list.append(ranging(o))\n",
        "\n",
        "other_seventy['tf_natasha_updated'] = ranging_list[:690]\n",
        "\n",
        "accuracy = 0\n",
        "for s, t in zip(other_seventy['Номер связки\\n'],other_seventy['tf_natasha_updated']):\n",
        "  if s == t:\n",
        "    accuracy += 1\n",
        "\n",
        "acc = accuracy/len(other_seventy['Номер связки\\n'])\n",
        "print(acc)\n"
      ],
      "execution_count": 118,
      "outputs": [
        {
          "output_type": "stream",
          "text": [
            "DocSent(stop=23, text='Уехал 8-9 ноября в Сочи', tokens=[...])\n"
          ],
          "name": "stdout"
        },
        {
          "output_type": "execute_result",
          "data": {
            "application/vnd.google.colaboratory.intrinsic+json": {
              "type": "string"
            },
            "text/plain": [
              "'Уехал 8-9 ноября в '"
            ]
          },
          "metadata": {
            "tags": []
          },
          "execution_count": 118
        }
      ]
    }
  ]
}